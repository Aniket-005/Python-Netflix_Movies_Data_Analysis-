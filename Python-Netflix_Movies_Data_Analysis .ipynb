{
 "cells": [
  {
   "cell_type": "markdown",
   "id": "c759b3dd-b8c4-4fd2-99a6-4dcf480ec963",
   "metadata": {},
   "source": [
    "# Import Libraries"
   ]
  },
  {
   "cell_type": "code",
   "execution_count": 20,
   "id": "81794cad-606e-4c27-b13a-5017e0794722",
   "metadata": {},
   "outputs": [],
   "source": [
    "import pandas as pd "
   ]
  },
  {
   "cell_type": "markdown",
   "id": "695bdedf-ba6b-4e96-8aba-de7cbf8d4996",
   "metadata": {},
   "source": [
    "# Load the DataSet"
   ]
  },
  {
   "cell_type": "code",
   "execution_count": 23,
   "id": "cf2348fa-d6ac-45d1-9862-5a5c7112aa50",
   "metadata": {},
   "outputs": [],
   "source": [
    "df= pd.read_csv(r\"C:\\\\Users\\\\Aniket\\\\Downloads\\\\netflix_titles_DataSet.csv\")"
   ]
  },
  {
   "cell_type": "code",
   "execution_count": 24,
   "id": "9c81b1d7-2474-4515-a226-6ff376781d01",
   "metadata": {},
   "outputs": [
    {
     "data": {
      "text/html": [
       "<div>\n",
       "<style scoped>\n",
       "    .dataframe tbody tr th:only-of-type {\n",
       "        vertical-align: middle;\n",
       "    }\n",
       "\n",
       "    .dataframe tbody tr th {\n",
       "        vertical-align: top;\n",
       "    }\n",
       "\n",
       "    .dataframe thead th {\n",
       "        text-align: right;\n",
       "    }\n",
       "</style>\n",
       "<table border=\"1\" class=\"dataframe\">\n",
       "  <thead>\n",
       "    <tr style=\"text-align: right;\">\n",
       "      <th></th>\n",
       "      <th>show_id</th>\n",
       "      <th>type</th>\n",
       "      <th>title</th>\n",
       "      <th>director</th>\n",
       "      <th>cast</th>\n",
       "      <th>country</th>\n",
       "      <th>date_added</th>\n",
       "      <th>release_year</th>\n",
       "      <th>rating</th>\n",
       "      <th>duration</th>\n",
       "      <th>listed_in</th>\n",
       "      <th>description</th>\n",
       "    </tr>\n",
       "  </thead>\n",
       "  <tbody>\n",
       "    <tr>\n",
       "      <th>0</th>\n",
       "      <td>s1</td>\n",
       "      <td>Movie</td>\n",
       "      <td>Dick Johnson Is Dead</td>\n",
       "      <td>Kirsten Johnson</td>\n",
       "      <td>NaN</td>\n",
       "      <td>United States</td>\n",
       "      <td>September 25, 2021</td>\n",
       "      <td>2020</td>\n",
       "      <td>PG-13</td>\n",
       "      <td>90 min</td>\n",
       "      <td>Documentaries</td>\n",
       "      <td>As her father nears the end of his life, filmm...</td>\n",
       "    </tr>\n",
       "    <tr>\n",
       "      <th>1</th>\n",
       "      <td>s2</td>\n",
       "      <td>TV Show</td>\n",
       "      <td>Blood &amp; Water</td>\n",
       "      <td>NaN</td>\n",
       "      <td>Ama Qamata, Khosi Ngema, Gail Mabalane, Thaban...</td>\n",
       "      <td>South Africa</td>\n",
       "      <td>September 24, 2021</td>\n",
       "      <td>2021</td>\n",
       "      <td>TV-MA</td>\n",
       "      <td>2 Seasons</td>\n",
       "      <td>International TV Shows, TV Dramas, TV Mysteries</td>\n",
       "      <td>After crossing paths at a party, a Cape Town t...</td>\n",
       "    </tr>\n",
       "    <tr>\n",
       "      <th>2</th>\n",
       "      <td>s3</td>\n",
       "      <td>TV Show</td>\n",
       "      <td>Ganglands</td>\n",
       "      <td>Julien Leclercq</td>\n",
       "      <td>Sami Bouajila, Tracy Gotoas, Samuel Jouy, Nabi...</td>\n",
       "      <td>NaN</td>\n",
       "      <td>September 24, 2021</td>\n",
       "      <td>2021</td>\n",
       "      <td>TV-MA</td>\n",
       "      <td>1 Season</td>\n",
       "      <td>Crime TV Shows, International TV Shows, TV Act...</td>\n",
       "      <td>To protect his family from a powerful drug lor...</td>\n",
       "    </tr>\n",
       "    <tr>\n",
       "      <th>3</th>\n",
       "      <td>s4</td>\n",
       "      <td>TV Show</td>\n",
       "      <td>Jailbirds New Orleans</td>\n",
       "      <td>NaN</td>\n",
       "      <td>NaN</td>\n",
       "      <td>NaN</td>\n",
       "      <td>September 24, 2021</td>\n",
       "      <td>2021</td>\n",
       "      <td>TV-MA</td>\n",
       "      <td>1 Season</td>\n",
       "      <td>Docuseries, Reality TV</td>\n",
       "      <td>Feuds, flirtations and toilet talk go down amo...</td>\n",
       "    </tr>\n",
       "    <tr>\n",
       "      <th>4</th>\n",
       "      <td>s5</td>\n",
       "      <td>TV Show</td>\n",
       "      <td>Kota Factory</td>\n",
       "      <td>NaN</td>\n",
       "      <td>Mayur More, Jitendra Kumar, Ranjan Raj, Alam K...</td>\n",
       "      <td>India</td>\n",
       "      <td>September 24, 2021</td>\n",
       "      <td>2021</td>\n",
       "      <td>TV-MA</td>\n",
       "      <td>2 Seasons</td>\n",
       "      <td>International TV Shows, Romantic TV Shows, TV ...</td>\n",
       "      <td>In a city of coaching centers known to train I...</td>\n",
       "    </tr>\n",
       "    <tr>\n",
       "      <th>...</th>\n",
       "      <td>...</td>\n",
       "      <td>...</td>\n",
       "      <td>...</td>\n",
       "      <td>...</td>\n",
       "      <td>...</td>\n",
       "      <td>...</td>\n",
       "      <td>...</td>\n",
       "      <td>...</td>\n",
       "      <td>...</td>\n",
       "      <td>...</td>\n",
       "      <td>...</td>\n",
       "      <td>...</td>\n",
       "    </tr>\n",
       "    <tr>\n",
       "      <th>8802</th>\n",
       "      <td>s8803</td>\n",
       "      <td>Movie</td>\n",
       "      <td>Zodiac</td>\n",
       "      <td>David Fincher</td>\n",
       "      <td>Mark Ruffalo, Jake Gyllenhaal, Robert Downey J...</td>\n",
       "      <td>United States</td>\n",
       "      <td>November 20, 2019</td>\n",
       "      <td>2007</td>\n",
       "      <td>R</td>\n",
       "      <td>158 min</td>\n",
       "      <td>Cult Movies, Dramas, Thrillers</td>\n",
       "      <td>A political cartoonist, a crime reporter and a...</td>\n",
       "    </tr>\n",
       "    <tr>\n",
       "      <th>8803</th>\n",
       "      <td>s8804</td>\n",
       "      <td>TV Show</td>\n",
       "      <td>Zombie Dumb</td>\n",
       "      <td>NaN</td>\n",
       "      <td>NaN</td>\n",
       "      <td>NaN</td>\n",
       "      <td>July 1, 2019</td>\n",
       "      <td>2018</td>\n",
       "      <td>TV-Y7</td>\n",
       "      <td>2 Seasons</td>\n",
       "      <td>Kids' TV, Korean TV Shows, TV Comedies</td>\n",
       "      <td>While living alone in a spooky town, a young g...</td>\n",
       "    </tr>\n",
       "    <tr>\n",
       "      <th>8804</th>\n",
       "      <td>s8805</td>\n",
       "      <td>Movie</td>\n",
       "      <td>Zombieland</td>\n",
       "      <td>Ruben Fleischer</td>\n",
       "      <td>Jesse Eisenberg, Woody Harrelson, Emma Stone, ...</td>\n",
       "      <td>United States</td>\n",
       "      <td>November 1, 2019</td>\n",
       "      <td>2009</td>\n",
       "      <td>R</td>\n",
       "      <td>88 min</td>\n",
       "      <td>Comedies, Horror Movies</td>\n",
       "      <td>Looking to survive in a world taken over by zo...</td>\n",
       "    </tr>\n",
       "    <tr>\n",
       "      <th>8805</th>\n",
       "      <td>s8806</td>\n",
       "      <td>Movie</td>\n",
       "      <td>Zoom</td>\n",
       "      <td>Peter Hewitt</td>\n",
       "      <td>Tim Allen, Courteney Cox, Chevy Chase, Kate Ma...</td>\n",
       "      <td>United States</td>\n",
       "      <td>January 11, 2020</td>\n",
       "      <td>2006</td>\n",
       "      <td>PG</td>\n",
       "      <td>88 min</td>\n",
       "      <td>Children &amp; Family Movies, Comedies</td>\n",
       "      <td>Dragged from civilian life, a former superhero...</td>\n",
       "    </tr>\n",
       "    <tr>\n",
       "      <th>8806</th>\n",
       "      <td>s8807</td>\n",
       "      <td>Movie</td>\n",
       "      <td>Zubaan</td>\n",
       "      <td>Mozez Singh</td>\n",
       "      <td>Vicky Kaushal, Sarah-Jane Dias, Raaghav Chanan...</td>\n",
       "      <td>India</td>\n",
       "      <td>March 2, 2019</td>\n",
       "      <td>2015</td>\n",
       "      <td>TV-14</td>\n",
       "      <td>111 min</td>\n",
       "      <td>Dramas, International Movies, Music &amp; Musicals</td>\n",
       "      <td>A scrappy but poor boy worms his way into a ty...</td>\n",
       "    </tr>\n",
       "  </tbody>\n",
       "</table>\n",
       "<p>8807 rows × 12 columns</p>\n",
       "</div>"
      ],
      "text/plain": [
       "     show_id     type                  title         director  \\\n",
       "0         s1    Movie   Dick Johnson Is Dead  Kirsten Johnson   \n",
       "1         s2  TV Show          Blood & Water              NaN   \n",
       "2         s3  TV Show              Ganglands  Julien Leclercq   \n",
       "3         s4  TV Show  Jailbirds New Orleans              NaN   \n",
       "4         s5  TV Show           Kota Factory              NaN   \n",
       "...      ...      ...                    ...              ...   \n",
       "8802   s8803    Movie                 Zodiac    David Fincher   \n",
       "8803   s8804  TV Show            Zombie Dumb              NaN   \n",
       "8804   s8805    Movie             Zombieland  Ruben Fleischer   \n",
       "8805   s8806    Movie                   Zoom     Peter Hewitt   \n",
       "8806   s8807    Movie                 Zubaan      Mozez Singh   \n",
       "\n",
       "                                                   cast        country  \\\n",
       "0                                                   NaN  United States   \n",
       "1     Ama Qamata, Khosi Ngema, Gail Mabalane, Thaban...   South Africa   \n",
       "2     Sami Bouajila, Tracy Gotoas, Samuel Jouy, Nabi...            NaN   \n",
       "3                                                   NaN            NaN   \n",
       "4     Mayur More, Jitendra Kumar, Ranjan Raj, Alam K...          India   \n",
       "...                                                 ...            ...   \n",
       "8802  Mark Ruffalo, Jake Gyllenhaal, Robert Downey J...  United States   \n",
       "8803                                                NaN            NaN   \n",
       "8804  Jesse Eisenberg, Woody Harrelson, Emma Stone, ...  United States   \n",
       "8805  Tim Allen, Courteney Cox, Chevy Chase, Kate Ma...  United States   \n",
       "8806  Vicky Kaushal, Sarah-Jane Dias, Raaghav Chanan...          India   \n",
       "\n",
       "              date_added  release_year rating   duration  \\\n",
       "0     September 25, 2021          2020  PG-13     90 min   \n",
       "1     September 24, 2021          2021  TV-MA  2 Seasons   \n",
       "2     September 24, 2021          2021  TV-MA   1 Season   \n",
       "3     September 24, 2021          2021  TV-MA   1 Season   \n",
       "4     September 24, 2021          2021  TV-MA  2 Seasons   \n",
       "...                  ...           ...    ...        ...   \n",
       "8802   November 20, 2019          2007      R    158 min   \n",
       "8803        July 1, 2019          2018  TV-Y7  2 Seasons   \n",
       "8804    November 1, 2019          2009      R     88 min   \n",
       "8805    January 11, 2020          2006     PG     88 min   \n",
       "8806       March 2, 2019          2015  TV-14    111 min   \n",
       "\n",
       "                                              listed_in  \\\n",
       "0                                         Documentaries   \n",
       "1       International TV Shows, TV Dramas, TV Mysteries   \n",
       "2     Crime TV Shows, International TV Shows, TV Act...   \n",
       "3                                Docuseries, Reality TV   \n",
       "4     International TV Shows, Romantic TV Shows, TV ...   \n",
       "...                                                 ...   \n",
       "8802                     Cult Movies, Dramas, Thrillers   \n",
       "8803             Kids' TV, Korean TV Shows, TV Comedies   \n",
       "8804                            Comedies, Horror Movies   \n",
       "8805                 Children & Family Movies, Comedies   \n",
       "8806     Dramas, International Movies, Music & Musicals   \n",
       "\n",
       "                                            description  \n",
       "0     As her father nears the end of his life, filmm...  \n",
       "1     After crossing paths at a party, a Cape Town t...  \n",
       "2     To protect his family from a powerful drug lor...  \n",
       "3     Feuds, flirtations and toilet talk go down amo...  \n",
       "4     In a city of coaching centers known to train I...  \n",
       "...                                                 ...  \n",
       "8802  A political cartoonist, a crime reporter and a...  \n",
       "8803  While living alone in a spooky town, a young g...  \n",
       "8804  Looking to survive in a world taken over by zo...  \n",
       "8805  Dragged from civilian life, a former superhero...  \n",
       "8806  A scrappy but poor boy worms his way into a ty...  \n",
       "\n",
       "[8807 rows x 12 columns]"
      ]
     },
     "execution_count": 24,
     "metadata": {},
     "output_type": "execute_result"
    }
   ],
   "source": [
    "df"
   ]
  },
  {
   "cell_type": "markdown",
   "id": "cb3b711f-1470-41e7-882a-f6d7c6487607",
   "metadata": {},
   "source": [
    "# 1.head()"
   ]
  },
  {
   "cell_type": "code",
   "execution_count": 28,
   "id": "83f6fd96-b74b-477c-884d-77acc8dcb1ba",
   "metadata": {},
   "outputs": [
    {
     "data": {
      "text/html": [
       "<div>\n",
       "<style scoped>\n",
       "    .dataframe tbody tr th:only-of-type {\n",
       "        vertical-align: middle;\n",
       "    }\n",
       "\n",
       "    .dataframe tbody tr th {\n",
       "        vertical-align: top;\n",
       "    }\n",
       "\n",
       "    .dataframe thead th {\n",
       "        text-align: right;\n",
       "    }\n",
       "</style>\n",
       "<table border=\"1\" class=\"dataframe\">\n",
       "  <thead>\n",
       "    <tr style=\"text-align: right;\">\n",
       "      <th></th>\n",
       "      <th>show_id</th>\n",
       "      <th>type</th>\n",
       "      <th>title</th>\n",
       "      <th>director</th>\n",
       "      <th>cast</th>\n",
       "      <th>country</th>\n",
       "      <th>date_added</th>\n",
       "      <th>release_year</th>\n",
       "      <th>rating</th>\n",
       "      <th>duration</th>\n",
       "      <th>listed_in</th>\n",
       "      <th>description</th>\n",
       "    </tr>\n",
       "  </thead>\n",
       "  <tbody>\n",
       "    <tr>\n",
       "      <th>0</th>\n",
       "      <td>s1</td>\n",
       "      <td>Movie</td>\n",
       "      <td>Dick Johnson Is Dead</td>\n",
       "      <td>Kirsten Johnson</td>\n",
       "      <td>NaN</td>\n",
       "      <td>United States</td>\n",
       "      <td>September 25, 2021</td>\n",
       "      <td>2020</td>\n",
       "      <td>PG-13</td>\n",
       "      <td>90 min</td>\n",
       "      <td>Documentaries</td>\n",
       "      <td>As her father nears the end of his life, filmm...</td>\n",
       "    </tr>\n",
       "    <tr>\n",
       "      <th>1</th>\n",
       "      <td>s2</td>\n",
       "      <td>TV Show</td>\n",
       "      <td>Blood &amp; Water</td>\n",
       "      <td>NaN</td>\n",
       "      <td>Ama Qamata, Khosi Ngema, Gail Mabalane, Thaban...</td>\n",
       "      <td>South Africa</td>\n",
       "      <td>September 24, 2021</td>\n",
       "      <td>2021</td>\n",
       "      <td>TV-MA</td>\n",
       "      <td>2 Seasons</td>\n",
       "      <td>International TV Shows, TV Dramas, TV Mysteries</td>\n",
       "      <td>After crossing paths at a party, a Cape Town t...</td>\n",
       "    </tr>\n",
       "    <tr>\n",
       "      <th>2</th>\n",
       "      <td>s3</td>\n",
       "      <td>TV Show</td>\n",
       "      <td>Ganglands</td>\n",
       "      <td>Julien Leclercq</td>\n",
       "      <td>Sami Bouajila, Tracy Gotoas, Samuel Jouy, Nabi...</td>\n",
       "      <td>NaN</td>\n",
       "      <td>September 24, 2021</td>\n",
       "      <td>2021</td>\n",
       "      <td>TV-MA</td>\n",
       "      <td>1 Season</td>\n",
       "      <td>Crime TV Shows, International TV Shows, TV Act...</td>\n",
       "      <td>To protect his family from a powerful drug lor...</td>\n",
       "    </tr>\n",
       "    <tr>\n",
       "      <th>3</th>\n",
       "      <td>s4</td>\n",
       "      <td>TV Show</td>\n",
       "      <td>Jailbirds New Orleans</td>\n",
       "      <td>NaN</td>\n",
       "      <td>NaN</td>\n",
       "      <td>NaN</td>\n",
       "      <td>September 24, 2021</td>\n",
       "      <td>2021</td>\n",
       "      <td>TV-MA</td>\n",
       "      <td>1 Season</td>\n",
       "      <td>Docuseries, Reality TV</td>\n",
       "      <td>Feuds, flirtations and toilet talk go down amo...</td>\n",
       "    </tr>\n",
       "    <tr>\n",
       "      <th>4</th>\n",
       "      <td>s5</td>\n",
       "      <td>TV Show</td>\n",
       "      <td>Kota Factory</td>\n",
       "      <td>NaN</td>\n",
       "      <td>Mayur More, Jitendra Kumar, Ranjan Raj, Alam K...</td>\n",
       "      <td>India</td>\n",
       "      <td>September 24, 2021</td>\n",
       "      <td>2021</td>\n",
       "      <td>TV-MA</td>\n",
       "      <td>2 Seasons</td>\n",
       "      <td>International TV Shows, Romantic TV Shows, TV ...</td>\n",
       "      <td>In a city of coaching centers known to train I...</td>\n",
       "    </tr>\n",
       "  </tbody>\n",
       "</table>\n",
       "</div>"
      ],
      "text/plain": [
       "  show_id     type                  title         director  \\\n",
       "0      s1    Movie   Dick Johnson Is Dead  Kirsten Johnson   \n",
       "1      s2  TV Show          Blood & Water              NaN   \n",
       "2      s3  TV Show              Ganglands  Julien Leclercq   \n",
       "3      s4  TV Show  Jailbirds New Orleans              NaN   \n",
       "4      s5  TV Show           Kota Factory              NaN   \n",
       "\n",
       "                                                cast        country  \\\n",
       "0                                                NaN  United States   \n",
       "1  Ama Qamata, Khosi Ngema, Gail Mabalane, Thaban...   South Africa   \n",
       "2  Sami Bouajila, Tracy Gotoas, Samuel Jouy, Nabi...            NaN   \n",
       "3                                                NaN            NaN   \n",
       "4  Mayur More, Jitendra Kumar, Ranjan Raj, Alam K...          India   \n",
       "\n",
       "           date_added  release_year rating   duration  \\\n",
       "0  September 25, 2021          2020  PG-13     90 min   \n",
       "1  September 24, 2021          2021  TV-MA  2 Seasons   \n",
       "2  September 24, 2021          2021  TV-MA   1 Season   \n",
       "3  September 24, 2021          2021  TV-MA   1 Season   \n",
       "4  September 24, 2021          2021  TV-MA  2 Seasons   \n",
       "\n",
       "                                           listed_in  \\\n",
       "0                                      Documentaries   \n",
       "1    International TV Shows, TV Dramas, TV Mysteries   \n",
       "2  Crime TV Shows, International TV Shows, TV Act...   \n",
       "3                             Docuseries, Reality TV   \n",
       "4  International TV Shows, Romantic TV Shows, TV ...   \n",
       "\n",
       "                                         description  \n",
       "0  As her father nears the end of his life, filmm...  \n",
       "1  After crossing paths at a party, a Cape Town t...  \n",
       "2  To protect his family from a powerful drug lor...  \n",
       "3  Feuds, flirtations and toilet talk go down amo...  \n",
       "4  In a city of coaching centers known to train I...  "
      ]
     },
     "execution_count": 28,
     "metadata": {},
     "output_type": "execute_result"
    }
   ],
   "source": [
    "df.head(5)         # To show top 5 records of dataset"
   ]
  },
  {
   "cell_type": "markdown",
   "id": "fe14cf16-d950-4c86-acc7-8189b91dfdda",
   "metadata": {},
   "source": [
    "# 2. tail()"
   ]
  },
  {
   "cell_type": "code",
   "execution_count": 31,
   "id": "9c9cce85-1113-4566-b7c2-2137dbc47bb2",
   "metadata": {},
   "outputs": [
    {
     "data": {
      "text/html": [
       "<div>\n",
       "<style scoped>\n",
       "    .dataframe tbody tr th:only-of-type {\n",
       "        vertical-align: middle;\n",
       "    }\n",
       "\n",
       "    .dataframe tbody tr th {\n",
       "        vertical-align: top;\n",
       "    }\n",
       "\n",
       "    .dataframe thead th {\n",
       "        text-align: right;\n",
       "    }\n",
       "</style>\n",
       "<table border=\"1\" class=\"dataframe\">\n",
       "  <thead>\n",
       "    <tr style=\"text-align: right;\">\n",
       "      <th></th>\n",
       "      <th>show_id</th>\n",
       "      <th>type</th>\n",
       "      <th>title</th>\n",
       "      <th>director</th>\n",
       "      <th>cast</th>\n",
       "      <th>country</th>\n",
       "      <th>date_added</th>\n",
       "      <th>release_year</th>\n",
       "      <th>rating</th>\n",
       "      <th>duration</th>\n",
       "      <th>listed_in</th>\n",
       "      <th>description</th>\n",
       "    </tr>\n",
       "  </thead>\n",
       "  <tbody>\n",
       "    <tr>\n",
       "      <th>8802</th>\n",
       "      <td>s8803</td>\n",
       "      <td>Movie</td>\n",
       "      <td>Zodiac</td>\n",
       "      <td>David Fincher</td>\n",
       "      <td>Mark Ruffalo, Jake Gyllenhaal, Robert Downey J...</td>\n",
       "      <td>United States</td>\n",
       "      <td>November 20, 2019</td>\n",
       "      <td>2007</td>\n",
       "      <td>R</td>\n",
       "      <td>158 min</td>\n",
       "      <td>Cult Movies, Dramas, Thrillers</td>\n",
       "      <td>A political cartoonist, a crime reporter and a...</td>\n",
       "    </tr>\n",
       "    <tr>\n",
       "      <th>8803</th>\n",
       "      <td>s8804</td>\n",
       "      <td>TV Show</td>\n",
       "      <td>Zombie Dumb</td>\n",
       "      <td>NaN</td>\n",
       "      <td>NaN</td>\n",
       "      <td>NaN</td>\n",
       "      <td>July 1, 2019</td>\n",
       "      <td>2018</td>\n",
       "      <td>TV-Y7</td>\n",
       "      <td>2 Seasons</td>\n",
       "      <td>Kids' TV, Korean TV Shows, TV Comedies</td>\n",
       "      <td>While living alone in a spooky town, a young g...</td>\n",
       "    </tr>\n",
       "    <tr>\n",
       "      <th>8804</th>\n",
       "      <td>s8805</td>\n",
       "      <td>Movie</td>\n",
       "      <td>Zombieland</td>\n",
       "      <td>Ruben Fleischer</td>\n",
       "      <td>Jesse Eisenberg, Woody Harrelson, Emma Stone, ...</td>\n",
       "      <td>United States</td>\n",
       "      <td>November 1, 2019</td>\n",
       "      <td>2009</td>\n",
       "      <td>R</td>\n",
       "      <td>88 min</td>\n",
       "      <td>Comedies, Horror Movies</td>\n",
       "      <td>Looking to survive in a world taken over by zo...</td>\n",
       "    </tr>\n",
       "    <tr>\n",
       "      <th>8805</th>\n",
       "      <td>s8806</td>\n",
       "      <td>Movie</td>\n",
       "      <td>Zoom</td>\n",
       "      <td>Peter Hewitt</td>\n",
       "      <td>Tim Allen, Courteney Cox, Chevy Chase, Kate Ma...</td>\n",
       "      <td>United States</td>\n",
       "      <td>January 11, 2020</td>\n",
       "      <td>2006</td>\n",
       "      <td>PG</td>\n",
       "      <td>88 min</td>\n",
       "      <td>Children &amp; Family Movies, Comedies</td>\n",
       "      <td>Dragged from civilian life, a former superhero...</td>\n",
       "    </tr>\n",
       "    <tr>\n",
       "      <th>8806</th>\n",
       "      <td>s8807</td>\n",
       "      <td>Movie</td>\n",
       "      <td>Zubaan</td>\n",
       "      <td>Mozez Singh</td>\n",
       "      <td>Vicky Kaushal, Sarah-Jane Dias, Raaghav Chanan...</td>\n",
       "      <td>India</td>\n",
       "      <td>March 2, 2019</td>\n",
       "      <td>2015</td>\n",
       "      <td>TV-14</td>\n",
       "      <td>111 min</td>\n",
       "      <td>Dramas, International Movies, Music &amp; Musicals</td>\n",
       "      <td>A scrappy but poor boy worms his way into a ty...</td>\n",
       "    </tr>\n",
       "  </tbody>\n",
       "</table>\n",
       "</div>"
      ],
      "text/plain": [
       "     show_id     type        title         director  \\\n",
       "8802   s8803    Movie       Zodiac    David Fincher   \n",
       "8803   s8804  TV Show  Zombie Dumb              NaN   \n",
       "8804   s8805    Movie   Zombieland  Ruben Fleischer   \n",
       "8805   s8806    Movie         Zoom     Peter Hewitt   \n",
       "8806   s8807    Movie       Zubaan      Mozez Singh   \n",
       "\n",
       "                                                   cast        country  \\\n",
       "8802  Mark Ruffalo, Jake Gyllenhaal, Robert Downey J...  United States   \n",
       "8803                                                NaN            NaN   \n",
       "8804  Jesse Eisenberg, Woody Harrelson, Emma Stone, ...  United States   \n",
       "8805  Tim Allen, Courteney Cox, Chevy Chase, Kate Ma...  United States   \n",
       "8806  Vicky Kaushal, Sarah-Jane Dias, Raaghav Chanan...          India   \n",
       "\n",
       "             date_added  release_year rating   duration  \\\n",
       "8802  November 20, 2019          2007      R    158 min   \n",
       "8803       July 1, 2019          2018  TV-Y7  2 Seasons   \n",
       "8804   November 1, 2019          2009      R     88 min   \n",
       "8805   January 11, 2020          2006     PG     88 min   \n",
       "8806      March 2, 2019          2015  TV-14    111 min   \n",
       "\n",
       "                                           listed_in  \\\n",
       "8802                  Cult Movies, Dramas, Thrillers   \n",
       "8803          Kids' TV, Korean TV Shows, TV Comedies   \n",
       "8804                         Comedies, Horror Movies   \n",
       "8805              Children & Family Movies, Comedies   \n",
       "8806  Dramas, International Movies, Music & Musicals   \n",
       "\n",
       "                                            description  \n",
       "8802  A political cartoonist, a crime reporter and a...  \n",
       "8803  While living alone in a spooky town, a young g...  \n",
       "8804  Looking to survive in a world taken over by zo...  \n",
       "8805  Dragged from civilian life, a former superhero...  \n",
       "8806  A scrappy but poor boy worms his way into a ty...  "
      ]
     },
     "execution_count": 31,
     "metadata": {},
     "output_type": "execute_result"
    }
   ],
   "source": [
    "df.tail(5)     # To show bottom 5 records of dataset"
   ]
  },
  {
   "cell_type": "markdown",
   "id": "34b8ae2b-89cf-446c-8800-2690d6eb3418",
   "metadata": {},
   "source": [
    "# 3.shape()"
   ]
  },
  {
   "cell_type": "code",
   "execution_count": 34,
   "id": "8157fb7a-6506-4603-80f5-4c09798cfaf5",
   "metadata": {},
   "outputs": [
    {
     "data": {
      "text/plain": [
       "(8807, 12)"
      ]
     },
     "execution_count": 34,
     "metadata": {},
     "output_type": "execute_result"
    }
   ],
   "source": [
    "df.shape                 # To show no of rows and columns in dataset"
   ]
  },
  {
   "cell_type": "markdown",
   "id": "a76a2ffb-296f-4dcf-9dfd-062537963059",
   "metadata": {},
   "source": [
    "# 4. size"
   ]
  },
  {
   "cell_type": "code",
   "execution_count": 37,
   "id": "81d14c78-b328-47ad-8d3d-454702e63459",
   "metadata": {},
   "outputs": [
    {
     "data": {
      "text/plain": [
       "105684"
      ]
     },
     "execution_count": 37,
     "metadata": {},
     "output_type": "execute_result"
    }
   ],
   "source": [
    "df.size             # To show no of elements in dataset"
   ]
  },
  {
   "cell_type": "markdown",
   "id": "86cd2c5f-bd08-4f40-bbd2-cf565dea7103",
   "metadata": {},
   "source": [
    "# 5. columns"
   ]
  },
  {
   "cell_type": "code",
   "execution_count": 40,
   "id": "4244161b-e5d2-4d6b-b6d3-3bee4979db5e",
   "metadata": {},
   "outputs": [
    {
     "data": {
      "text/plain": [
       "Index(['show_id', 'type', 'title', 'director', 'cast', 'country', 'date_added',\n",
       "       'release_year', 'rating', 'duration', 'listed_in', 'description'],\n",
       "      dtype='object')"
      ]
     },
     "execution_count": 40,
     "metadata": {},
     "output_type": "execute_result"
    }
   ],
   "source": [
    "df.columns        # To show each column name"
   ]
  },
  {
   "cell_type": "markdown",
   "id": "77c4d49b-3672-4a79-be2d-186c3e3e1a4d",
   "metadata": {},
   "source": [
    "# 6.dtypes"
   ]
  },
  {
   "cell_type": "code",
   "execution_count": 43,
   "id": "8b1b0ac7-105a-40bf-a06a-37ab70bb7598",
   "metadata": {},
   "outputs": [
    {
     "data": {
      "text/plain": [
       "show_id         object\n",
       "type            object\n",
       "title           object\n",
       "director        object\n",
       "cast            object\n",
       "country         object\n",
       "date_added      object\n",
       "release_year     int64\n",
       "rating          object\n",
       "duration        object\n",
       "listed_in       object\n",
       "description     object\n",
       "dtype: object"
      ]
     },
     "execution_count": 43,
     "metadata": {},
     "output_type": "execute_result"
    }
   ],
   "source": [
    "df.dtypes         # To show the dtypes of each column "
   ]
  },
  {
   "cell_type": "markdown",
   "id": "cbbd4f40-8d84-450e-8047-efb1032ed1cc",
   "metadata": {},
   "source": [
    "# 7. info()"
   ]
  },
  {
   "cell_type": "code",
   "execution_count": 46,
   "id": "618a7d9f-93d7-40ac-98b0-2c51e4796d04",
   "metadata": {},
   "outputs": [
    {
     "name": "stdout",
     "output_type": "stream",
     "text": [
      "<class 'pandas.core.frame.DataFrame'>\n",
      "RangeIndex: 8807 entries, 0 to 8806\n",
      "Data columns (total 12 columns):\n",
      " #   Column        Non-Null Count  Dtype \n",
      "---  ------        --------------  ----- \n",
      " 0   show_id       8807 non-null   object\n",
      " 1   type          8807 non-null   object\n",
      " 2   title         8807 non-null   object\n",
      " 3   director      6173 non-null   object\n",
      " 4   cast          7982 non-null   object\n",
      " 5   country       7976 non-null   object\n",
      " 6   date_added    8797 non-null   object\n",
      " 7   release_year  8807 non-null   int64 \n",
      " 8   rating        8803 non-null   object\n",
      " 9   duration      8804 non-null   object\n",
      " 10  listed_in     8807 non-null   object\n",
      " 11  description   8807 non-null   object\n",
      "dtypes: int64(1), object(11)\n",
      "memory usage: 825.8+ KB\n"
     ]
    }
   ],
   "source": [
    "df.info()             # To Show indexes, column_name, datatypes"
   ]
  },
  {
   "cell_type": "raw",
   "id": "e0b979fc-1afc-4035-b194-f0e4c210b77c",
   "metadata": {},
   "source": [
    "# Task 1 is there any duplicate Record in this dataset? if yes then remove duplicates  "
   ]
  },
  {
   "cell_type": "markdown",
   "id": "f4fbdc83-ab2f-452e-aaa5-048687a4a367",
   "metadata": {},
   "source": [
    "# duplicate()"
   ]
  },
  {
   "cell_type": "code",
   "execution_count": 49,
   "id": "22f72fb7-7a85-4d68-af75-d34e1e4921b9",
   "metadata": {},
   "outputs": [
    {
     "data": {
      "text/html": [
       "<div>\n",
       "<style scoped>\n",
       "    .dataframe tbody tr th:only-of-type {\n",
       "        vertical-align: middle;\n",
       "    }\n",
       "\n",
       "    .dataframe tbody tr th {\n",
       "        vertical-align: top;\n",
       "    }\n",
       "\n",
       "    .dataframe thead th {\n",
       "        text-align: right;\n",
       "    }\n",
       "</style>\n",
       "<table border=\"1\" class=\"dataframe\">\n",
       "  <thead>\n",
       "    <tr style=\"text-align: right;\">\n",
       "      <th></th>\n",
       "      <th>show_id</th>\n",
       "      <th>type</th>\n",
       "      <th>title</th>\n",
       "      <th>director</th>\n",
       "      <th>cast</th>\n",
       "      <th>country</th>\n",
       "      <th>date_added</th>\n",
       "      <th>release_year</th>\n",
       "      <th>rating</th>\n",
       "      <th>duration</th>\n",
       "      <th>listed_in</th>\n",
       "      <th>description</th>\n",
       "    </tr>\n",
       "  </thead>\n",
       "  <tbody>\n",
       "    <tr>\n",
       "      <th>0</th>\n",
       "      <td>s1</td>\n",
       "      <td>Movie</td>\n",
       "      <td>Dick Johnson Is Dead</td>\n",
       "      <td>Kirsten Johnson</td>\n",
       "      <td>NaN</td>\n",
       "      <td>United States</td>\n",
       "      <td>September 25, 2021</td>\n",
       "      <td>2020</td>\n",
       "      <td>PG-13</td>\n",
       "      <td>90 min</td>\n",
       "      <td>Documentaries</td>\n",
       "      <td>As her father nears the end of his life, filmm...</td>\n",
       "    </tr>\n",
       "    <tr>\n",
       "      <th>1</th>\n",
       "      <td>s2</td>\n",
       "      <td>TV Show</td>\n",
       "      <td>Blood &amp; Water</td>\n",
       "      <td>NaN</td>\n",
       "      <td>Ama Qamata, Khosi Ngema, Gail Mabalane, Thaban...</td>\n",
       "      <td>South Africa</td>\n",
       "      <td>September 24, 2021</td>\n",
       "      <td>2021</td>\n",
       "      <td>TV-MA</td>\n",
       "      <td>2 Seasons</td>\n",
       "      <td>International TV Shows, TV Dramas, TV Mysteries</td>\n",
       "      <td>After crossing paths at a party, a Cape Town t...</td>\n",
       "    </tr>\n",
       "    <tr>\n",
       "      <th>2</th>\n",
       "      <td>s3</td>\n",
       "      <td>TV Show</td>\n",
       "      <td>Ganglands</td>\n",
       "      <td>Julien Leclercq</td>\n",
       "      <td>Sami Bouajila, Tracy Gotoas, Samuel Jouy, Nabi...</td>\n",
       "      <td>NaN</td>\n",
       "      <td>September 24, 2021</td>\n",
       "      <td>2021</td>\n",
       "      <td>TV-MA</td>\n",
       "      <td>1 Season</td>\n",
       "      <td>Crime TV Shows, International TV Shows, TV Act...</td>\n",
       "      <td>To protect his family from a powerful drug lor...</td>\n",
       "    </tr>\n",
       "    <tr>\n",
       "      <th>3</th>\n",
       "      <td>s4</td>\n",
       "      <td>TV Show</td>\n",
       "      <td>Jailbirds New Orleans</td>\n",
       "      <td>NaN</td>\n",
       "      <td>NaN</td>\n",
       "      <td>NaN</td>\n",
       "      <td>September 24, 2021</td>\n",
       "      <td>2021</td>\n",
       "      <td>TV-MA</td>\n",
       "      <td>1 Season</td>\n",
       "      <td>Docuseries, Reality TV</td>\n",
       "      <td>Feuds, flirtations and toilet talk go down amo...</td>\n",
       "    </tr>\n",
       "    <tr>\n",
       "      <th>4</th>\n",
       "      <td>s5</td>\n",
       "      <td>TV Show</td>\n",
       "      <td>Kota Factory</td>\n",
       "      <td>NaN</td>\n",
       "      <td>Mayur More, Jitendra Kumar, Ranjan Raj, Alam K...</td>\n",
       "      <td>India</td>\n",
       "      <td>September 24, 2021</td>\n",
       "      <td>2021</td>\n",
       "      <td>TV-MA</td>\n",
       "      <td>2 Seasons</td>\n",
       "      <td>International TV Shows, Romantic TV Shows, TV ...</td>\n",
       "      <td>In a city of coaching centers known to train I...</td>\n",
       "    </tr>\n",
       "  </tbody>\n",
       "</table>\n",
       "</div>"
      ],
      "text/plain": [
       "  show_id     type                  title         director  \\\n",
       "0      s1    Movie   Dick Johnson Is Dead  Kirsten Johnson   \n",
       "1      s2  TV Show          Blood & Water              NaN   \n",
       "2      s3  TV Show              Ganglands  Julien Leclercq   \n",
       "3      s4  TV Show  Jailbirds New Orleans              NaN   \n",
       "4      s5  TV Show           Kota Factory              NaN   \n",
       "\n",
       "                                                cast        country  \\\n",
       "0                                                NaN  United States   \n",
       "1  Ama Qamata, Khosi Ngema, Gail Mabalane, Thaban...   South Africa   \n",
       "2  Sami Bouajila, Tracy Gotoas, Samuel Jouy, Nabi...            NaN   \n",
       "3                                                NaN            NaN   \n",
       "4  Mayur More, Jitendra Kumar, Ranjan Raj, Alam K...          India   \n",
       "\n",
       "           date_added  release_year rating   duration  \\\n",
       "0  September 25, 2021          2020  PG-13     90 min   \n",
       "1  September 24, 2021          2021  TV-MA  2 Seasons   \n",
       "2  September 24, 2021          2021  TV-MA   1 Season   \n",
       "3  September 24, 2021          2021  TV-MA   1 Season   \n",
       "4  September 24, 2021          2021  TV-MA  2 Seasons   \n",
       "\n",
       "                                           listed_in  \\\n",
       "0                                      Documentaries   \n",
       "1    International TV Shows, TV Dramas, TV Mysteries   \n",
       "2  Crime TV Shows, International TV Shows, TV Act...   \n",
       "3                             Docuseries, Reality TV   \n",
       "4  International TV Shows, Romantic TV Shows, TV ...   \n",
       "\n",
       "                                         description  \n",
       "0  As her father nears the end of his life, filmm...  \n",
       "1  After crossing paths at a party, a Cape Town t...  \n",
       "2  To protect his family from a powerful drug lor...  \n",
       "3  Feuds, flirtations and toilet talk go down amo...  \n",
       "4  In a city of coaching centers known to train I...  "
      ]
     },
     "execution_count": 49,
     "metadata": {},
     "output_type": "execute_result"
    }
   ],
   "source": [
    "df.head()"
   ]
  },
  {
   "cell_type": "code",
   "execution_count": 51,
   "id": "bb663c42-27d9-4191-9a35-aea0d2a5df9b",
   "metadata": {},
   "outputs": [
    {
     "data": {
      "text/plain": [
       "(8807, 12)"
      ]
     },
     "execution_count": 51,
     "metadata": {},
     "output_type": "execute_result"
    }
   ],
   "source": [
    "df.shape"
   ]
  },
  {
   "cell_type": "code",
   "execution_count": 53,
   "id": "040d21e1-9768-4f5c-873c-45ed97a38191",
   "metadata": {},
   "outputs": [
    {
     "data": {
      "text/html": [
       "<div>\n",
       "<style scoped>\n",
       "    .dataframe tbody tr th:only-of-type {\n",
       "        vertical-align: middle;\n",
       "    }\n",
       "\n",
       "    .dataframe tbody tr th {\n",
       "        vertical-align: top;\n",
       "    }\n",
       "\n",
       "    .dataframe thead th {\n",
       "        text-align: right;\n",
       "    }\n",
       "</style>\n",
       "<table border=\"1\" class=\"dataframe\">\n",
       "  <thead>\n",
       "    <tr style=\"text-align: right;\">\n",
       "      <th></th>\n",
       "      <th>show_id</th>\n",
       "      <th>type</th>\n",
       "      <th>title</th>\n",
       "      <th>director</th>\n",
       "      <th>cast</th>\n",
       "      <th>country</th>\n",
       "      <th>date_added</th>\n",
       "      <th>release_year</th>\n",
       "      <th>rating</th>\n",
       "      <th>duration</th>\n",
       "      <th>listed_in</th>\n",
       "      <th>description</th>\n",
       "    </tr>\n",
       "  </thead>\n",
       "  <tbody>\n",
       "  </tbody>\n",
       "</table>\n",
       "</div>"
      ],
      "text/plain": [
       "Empty DataFrame\n",
       "Columns: [show_id, type, title, director, cast, country, date_added, release_year, rating, duration, listed_in, description]\n",
       "Index: []"
      ]
     },
     "execution_count": 53,
     "metadata": {},
     "output_type": "execute_result"
    }
   ],
   "source": [
    "df[df.duplicated()]==1                 # To check row wise and detects the duplicates records"
   ]
  },
  {
   "cell_type": "markdown",
   "id": "6593d550-961c-4714-92d7-ef2f26c473ae",
   "metadata": {},
   "source": [
    "# No Duplicates"
   ]
  },
  {
   "cell_type": "markdown",
   "id": "ab14dfb7-ae80-4d80-b144-d659763ea603",
   "metadata": {},
   "source": [
    "# Task.2. Is there null values present in any column? show with heatmap"
   ]
  },
  {
   "cell_type": "markdown",
   "id": "1bb33e66-303f-4c64-85c9-3756893e6fc5",
   "metadata": {},
   "source": [
    "# isnull"
   ]
  },
  {
   "cell_type": "code",
   "execution_count": 58,
   "id": "00809ff5-c176-4792-b452-fe4ed800c5c2",
   "metadata": {},
   "outputs": [
    {
     "data": {
      "text/html": [
       "<div>\n",
       "<style scoped>\n",
       "    .dataframe tbody tr th:only-of-type {\n",
       "        vertical-align: middle;\n",
       "    }\n",
       "\n",
       "    .dataframe tbody tr th {\n",
       "        vertical-align: top;\n",
       "    }\n",
       "\n",
       "    .dataframe thead th {\n",
       "        text-align: right;\n",
       "    }\n",
       "</style>\n",
       "<table border=\"1\" class=\"dataframe\">\n",
       "  <thead>\n",
       "    <tr style=\"text-align: right;\">\n",
       "      <th></th>\n",
       "      <th>show_id</th>\n",
       "      <th>type</th>\n",
       "      <th>title</th>\n",
       "      <th>director</th>\n",
       "      <th>cast</th>\n",
       "      <th>country</th>\n",
       "      <th>date_added</th>\n",
       "      <th>release_year</th>\n",
       "      <th>rating</th>\n",
       "      <th>duration</th>\n",
       "      <th>listed_in</th>\n",
       "      <th>description</th>\n",
       "    </tr>\n",
       "  </thead>\n",
       "  <tbody>\n",
       "    <tr>\n",
       "      <th>0</th>\n",
       "      <td>s1</td>\n",
       "      <td>Movie</td>\n",
       "      <td>Dick Johnson Is Dead</td>\n",
       "      <td>Kirsten Johnson</td>\n",
       "      <td>NaN</td>\n",
       "      <td>United States</td>\n",
       "      <td>September 25, 2021</td>\n",
       "      <td>2020</td>\n",
       "      <td>PG-13</td>\n",
       "      <td>90 min</td>\n",
       "      <td>Documentaries</td>\n",
       "      <td>As her father nears the end of his life, filmm...</td>\n",
       "    </tr>\n",
       "    <tr>\n",
       "      <th>1</th>\n",
       "      <td>s2</td>\n",
       "      <td>TV Show</td>\n",
       "      <td>Blood &amp; Water</td>\n",
       "      <td>NaN</td>\n",
       "      <td>Ama Qamata, Khosi Ngema, Gail Mabalane, Thaban...</td>\n",
       "      <td>South Africa</td>\n",
       "      <td>September 24, 2021</td>\n",
       "      <td>2021</td>\n",
       "      <td>TV-MA</td>\n",
       "      <td>2 Seasons</td>\n",
       "      <td>International TV Shows, TV Dramas, TV Mysteries</td>\n",
       "      <td>After crossing paths at a party, a Cape Town t...</td>\n",
       "    </tr>\n",
       "    <tr>\n",
       "      <th>2</th>\n",
       "      <td>s3</td>\n",
       "      <td>TV Show</td>\n",
       "      <td>Ganglands</td>\n",
       "      <td>Julien Leclercq</td>\n",
       "      <td>Sami Bouajila, Tracy Gotoas, Samuel Jouy, Nabi...</td>\n",
       "      <td>NaN</td>\n",
       "      <td>September 24, 2021</td>\n",
       "      <td>2021</td>\n",
       "      <td>TV-MA</td>\n",
       "      <td>1 Season</td>\n",
       "      <td>Crime TV Shows, International TV Shows, TV Act...</td>\n",
       "      <td>To protect his family from a powerful drug lor...</td>\n",
       "    </tr>\n",
       "    <tr>\n",
       "      <th>3</th>\n",
       "      <td>s4</td>\n",
       "      <td>TV Show</td>\n",
       "      <td>Jailbirds New Orleans</td>\n",
       "      <td>NaN</td>\n",
       "      <td>NaN</td>\n",
       "      <td>NaN</td>\n",
       "      <td>September 24, 2021</td>\n",
       "      <td>2021</td>\n",
       "      <td>TV-MA</td>\n",
       "      <td>1 Season</td>\n",
       "      <td>Docuseries, Reality TV</td>\n",
       "      <td>Feuds, flirtations and toilet talk go down amo...</td>\n",
       "    </tr>\n",
       "    <tr>\n",
       "      <th>4</th>\n",
       "      <td>s5</td>\n",
       "      <td>TV Show</td>\n",
       "      <td>Kota Factory</td>\n",
       "      <td>NaN</td>\n",
       "      <td>Mayur More, Jitendra Kumar, Ranjan Raj, Alam K...</td>\n",
       "      <td>India</td>\n",
       "      <td>September 24, 2021</td>\n",
       "      <td>2021</td>\n",
       "      <td>TV-MA</td>\n",
       "      <td>2 Seasons</td>\n",
       "      <td>International TV Shows, Romantic TV Shows, TV ...</td>\n",
       "      <td>In a city of coaching centers known to train I...</td>\n",
       "    </tr>\n",
       "  </tbody>\n",
       "</table>\n",
       "</div>"
      ],
      "text/plain": [
       "  show_id     type                  title         director  \\\n",
       "0      s1    Movie   Dick Johnson Is Dead  Kirsten Johnson   \n",
       "1      s2  TV Show          Blood & Water              NaN   \n",
       "2      s3  TV Show              Ganglands  Julien Leclercq   \n",
       "3      s4  TV Show  Jailbirds New Orleans              NaN   \n",
       "4      s5  TV Show           Kota Factory              NaN   \n",
       "\n",
       "                                                cast        country  \\\n",
       "0                                                NaN  United States   \n",
       "1  Ama Qamata, Khosi Ngema, Gail Mabalane, Thaban...   South Africa   \n",
       "2  Sami Bouajila, Tracy Gotoas, Samuel Jouy, Nabi...            NaN   \n",
       "3                                                NaN            NaN   \n",
       "4  Mayur More, Jitendra Kumar, Ranjan Raj, Alam K...          India   \n",
       "\n",
       "           date_added  release_year rating   duration  \\\n",
       "0  September 25, 2021          2020  PG-13     90 min   \n",
       "1  September 24, 2021          2021  TV-MA  2 Seasons   \n",
       "2  September 24, 2021          2021  TV-MA   1 Season   \n",
       "3  September 24, 2021          2021  TV-MA   1 Season   \n",
       "4  September 24, 2021          2021  TV-MA  2 Seasons   \n",
       "\n",
       "                                           listed_in  \\\n",
       "0                                      Documentaries   \n",
       "1    International TV Shows, TV Dramas, TV Mysteries   \n",
       "2  Crime TV Shows, International TV Shows, TV Act...   \n",
       "3                             Docuseries, Reality TV   \n",
       "4  International TV Shows, Romantic TV Shows, TV ...   \n",
       "\n",
       "                                         description  \n",
       "0  As her father nears the end of his life, filmm...  \n",
       "1  After crossing paths at a party, a Cape Town t...  \n",
       "2  To protect his family from a powerful drug lor...  \n",
       "3  Feuds, flirtations and toilet talk go down amo...  \n",
       "4  In a city of coaching centers known to train I...  "
      ]
     },
     "execution_count": 58,
     "metadata": {},
     "output_type": "execute_result"
    }
   ],
   "source": [
    "df.head()"
   ]
  },
  {
   "cell_type": "code",
   "execution_count": 60,
   "id": "71dfba53-0678-40ed-83da-d2b348aa8596",
   "metadata": {},
   "outputs": [
    {
     "data": {
      "text/html": [
       "<div>\n",
       "<style scoped>\n",
       "    .dataframe tbody tr th:only-of-type {\n",
       "        vertical-align: middle;\n",
       "    }\n",
       "\n",
       "    .dataframe tbody tr th {\n",
       "        vertical-align: top;\n",
       "    }\n",
       "\n",
       "    .dataframe thead th {\n",
       "        text-align: right;\n",
       "    }\n",
       "</style>\n",
       "<table border=\"1\" class=\"dataframe\">\n",
       "  <thead>\n",
       "    <tr style=\"text-align: right;\">\n",
       "      <th></th>\n",
       "      <th>show_id</th>\n",
       "      <th>type</th>\n",
       "      <th>title</th>\n",
       "      <th>director</th>\n",
       "      <th>cast</th>\n",
       "      <th>country</th>\n",
       "      <th>date_added</th>\n",
       "      <th>release_year</th>\n",
       "      <th>rating</th>\n",
       "      <th>duration</th>\n",
       "      <th>listed_in</th>\n",
       "      <th>description</th>\n",
       "    </tr>\n",
       "  </thead>\n",
       "  <tbody>\n",
       "    <tr>\n",
       "      <th>0</th>\n",
       "      <td>False</td>\n",
       "      <td>False</td>\n",
       "      <td>False</td>\n",
       "      <td>False</td>\n",
       "      <td>True</td>\n",
       "      <td>False</td>\n",
       "      <td>False</td>\n",
       "      <td>False</td>\n",
       "      <td>False</td>\n",
       "      <td>False</td>\n",
       "      <td>False</td>\n",
       "      <td>False</td>\n",
       "    </tr>\n",
       "    <tr>\n",
       "      <th>1</th>\n",
       "      <td>False</td>\n",
       "      <td>False</td>\n",
       "      <td>False</td>\n",
       "      <td>True</td>\n",
       "      <td>False</td>\n",
       "      <td>False</td>\n",
       "      <td>False</td>\n",
       "      <td>False</td>\n",
       "      <td>False</td>\n",
       "      <td>False</td>\n",
       "      <td>False</td>\n",
       "      <td>False</td>\n",
       "    </tr>\n",
       "    <tr>\n",
       "      <th>2</th>\n",
       "      <td>False</td>\n",
       "      <td>False</td>\n",
       "      <td>False</td>\n",
       "      <td>False</td>\n",
       "      <td>False</td>\n",
       "      <td>True</td>\n",
       "      <td>False</td>\n",
       "      <td>False</td>\n",
       "      <td>False</td>\n",
       "      <td>False</td>\n",
       "      <td>False</td>\n",
       "      <td>False</td>\n",
       "    </tr>\n",
       "    <tr>\n",
       "      <th>3</th>\n",
       "      <td>False</td>\n",
       "      <td>False</td>\n",
       "      <td>False</td>\n",
       "      <td>True</td>\n",
       "      <td>True</td>\n",
       "      <td>True</td>\n",
       "      <td>False</td>\n",
       "      <td>False</td>\n",
       "      <td>False</td>\n",
       "      <td>False</td>\n",
       "      <td>False</td>\n",
       "      <td>False</td>\n",
       "    </tr>\n",
       "    <tr>\n",
       "      <th>4</th>\n",
       "      <td>False</td>\n",
       "      <td>False</td>\n",
       "      <td>False</td>\n",
       "      <td>True</td>\n",
       "      <td>False</td>\n",
       "      <td>False</td>\n",
       "      <td>False</td>\n",
       "      <td>False</td>\n",
       "      <td>False</td>\n",
       "      <td>False</td>\n",
       "      <td>False</td>\n",
       "      <td>False</td>\n",
       "    </tr>\n",
       "    <tr>\n",
       "      <th>...</th>\n",
       "      <td>...</td>\n",
       "      <td>...</td>\n",
       "      <td>...</td>\n",
       "      <td>...</td>\n",
       "      <td>...</td>\n",
       "      <td>...</td>\n",
       "      <td>...</td>\n",
       "      <td>...</td>\n",
       "      <td>...</td>\n",
       "      <td>...</td>\n",
       "      <td>...</td>\n",
       "      <td>...</td>\n",
       "    </tr>\n",
       "    <tr>\n",
       "      <th>8802</th>\n",
       "      <td>False</td>\n",
       "      <td>False</td>\n",
       "      <td>False</td>\n",
       "      <td>False</td>\n",
       "      <td>False</td>\n",
       "      <td>False</td>\n",
       "      <td>False</td>\n",
       "      <td>False</td>\n",
       "      <td>False</td>\n",
       "      <td>False</td>\n",
       "      <td>False</td>\n",
       "      <td>False</td>\n",
       "    </tr>\n",
       "    <tr>\n",
       "      <th>8803</th>\n",
       "      <td>False</td>\n",
       "      <td>False</td>\n",
       "      <td>False</td>\n",
       "      <td>True</td>\n",
       "      <td>True</td>\n",
       "      <td>True</td>\n",
       "      <td>False</td>\n",
       "      <td>False</td>\n",
       "      <td>False</td>\n",
       "      <td>False</td>\n",
       "      <td>False</td>\n",
       "      <td>False</td>\n",
       "    </tr>\n",
       "    <tr>\n",
       "      <th>8804</th>\n",
       "      <td>False</td>\n",
       "      <td>False</td>\n",
       "      <td>False</td>\n",
       "      <td>False</td>\n",
       "      <td>False</td>\n",
       "      <td>False</td>\n",
       "      <td>False</td>\n",
       "      <td>False</td>\n",
       "      <td>False</td>\n",
       "      <td>False</td>\n",
       "      <td>False</td>\n",
       "      <td>False</td>\n",
       "    </tr>\n",
       "    <tr>\n",
       "      <th>8805</th>\n",
       "      <td>False</td>\n",
       "      <td>False</td>\n",
       "      <td>False</td>\n",
       "      <td>False</td>\n",
       "      <td>False</td>\n",
       "      <td>False</td>\n",
       "      <td>False</td>\n",
       "      <td>False</td>\n",
       "      <td>False</td>\n",
       "      <td>False</td>\n",
       "      <td>False</td>\n",
       "      <td>False</td>\n",
       "    </tr>\n",
       "    <tr>\n",
       "      <th>8806</th>\n",
       "      <td>False</td>\n",
       "      <td>False</td>\n",
       "      <td>False</td>\n",
       "      <td>False</td>\n",
       "      <td>False</td>\n",
       "      <td>False</td>\n",
       "      <td>False</td>\n",
       "      <td>False</td>\n",
       "      <td>False</td>\n",
       "      <td>False</td>\n",
       "      <td>False</td>\n",
       "      <td>False</td>\n",
       "    </tr>\n",
       "  </tbody>\n",
       "</table>\n",
       "<p>8807 rows × 12 columns</p>\n",
       "</div>"
      ],
      "text/plain": [
       "      show_id   type  title  director   cast  country  date_added  \\\n",
       "0       False  False  False     False   True    False       False   \n",
       "1       False  False  False      True  False    False       False   \n",
       "2       False  False  False     False  False     True       False   \n",
       "3       False  False  False      True   True     True       False   \n",
       "4       False  False  False      True  False    False       False   \n",
       "...       ...    ...    ...       ...    ...      ...         ...   \n",
       "8802    False  False  False     False  False    False       False   \n",
       "8803    False  False  False      True   True     True       False   \n",
       "8804    False  False  False     False  False    False       False   \n",
       "8805    False  False  False     False  False    False       False   \n",
       "8806    False  False  False     False  False    False       False   \n",
       "\n",
       "      release_year  rating  duration  listed_in  description  \n",
       "0            False   False     False      False        False  \n",
       "1            False   False     False      False        False  \n",
       "2            False   False     False      False        False  \n",
       "3            False   False     False      False        False  \n",
       "4            False   False     False      False        False  \n",
       "...            ...     ...       ...        ...          ...  \n",
       "8802         False   False     False      False        False  \n",
       "8803         False   False     False      False        False  \n",
       "8804         False   False     False      False        False  \n",
       "8805         False   False     False      False        False  \n",
       "8806         False   False     False      False        False  \n",
       "\n",
       "[8807 rows x 12 columns]"
      ]
     },
     "execution_count": 60,
     "metadata": {},
     "output_type": "execute_result"
    }
   ],
   "source": [
    "df.isnull()                                     # To show where null values is present"
   ]
  },
  {
   "cell_type": "code",
   "execution_count": 62,
   "id": "f8bc4583-61a6-45c6-bc5c-4bdf9d0d0d32",
   "metadata": {},
   "outputs": [
    {
     "data": {
      "text/plain": [
       "show_id            0\n",
       "type               0\n",
       "title              0\n",
       "director        2634\n",
       "cast             825\n",
       "country          831\n",
       "date_added        10\n",
       "release_year       0\n",
       "rating             4\n",
       "duration           3\n",
       "listed_in          0\n",
       "description        0\n",
       "dtype: int64"
      ]
     },
     "execution_count": 62,
     "metadata": {},
     "output_type": "execute_result"
    }
   ],
   "source": [
    "df.isnull().sum()                                  # To show count of null values in each column"
   ]
  },
  {
   "cell_type": "markdown",
   "id": "88e76256-f202-4310-99fd-52686db1cd8d",
   "metadata": {},
   "source": [
    "# Seaborn Library(HeatMap)"
   ]
  },
  {
   "cell_type": "code",
   "execution_count": 65,
   "id": "45701dcb-9d2e-4881-ac98-aab4030a73f2",
   "metadata": {},
   "outputs": [],
   "source": [
    "import seaborn as sns                                     # To import seaborn library"
   ]
  },
  {
   "cell_type": "code",
   "execution_count": 67,
   "id": "23b77aeb-0864-43e3-b2d6-bd6c71ced117",
   "metadata": {},
   "outputs": [
    {
     "data": {
      "text/plain": [
       "<Axes: >"
      ]
     },
     "execution_count": 67,
     "metadata": {},
     "output_type": "execute_result"
    },
    {
     "data": {
      "image/png": "[encoded data removed]",
      "text/plain": [
       "<Figure size 640x480 with 2 Axes>"
      ]
     },
     "metadata": {},
     "output_type": "display_data"
    }
   ],
   "source": [
    "sns.heatmap(df.isnull())                                  # Using heatmap"
   ]
  },
  {
   "cell_type": "markdown",
   "id": "fe1816e6-9e28-4c14-b43d-8c95feb8e01a",
   "metadata": {},
   "source": [
    "# Q.1 For 'house of cards', what is the show id and who is the Director of this show?"
   ]
  },
  {
   "cell_type": "markdown",
   "id": "9ec80697-192b-4e2e-a5dd-1673ea323a49",
   "metadata": {},
   "source": [
    "# isin()"
   ]
  },
  {
   "cell_type": "code",
   "execution_count": 71,
   "id": "b6048f89-3431-488a-9bd1-87e5eb0c992c",
   "metadata": {},
   "outputs": [
    {
     "data": {
      "text/html": [
       "<div>\n",
       "<style scoped>\n",
       "    .dataframe tbody tr th:only-of-type {\n",
       "        vertical-align: middle;\n",
       "    }\n",
       "\n",
       "    .dataframe tbody tr th {\n",
       "        vertical-align: top;\n",
       "    }\n",
       "\n",
       "    .dataframe thead th {\n",
       "        text-align: right;\n",
       "    }\n",
       "</style>\n",
       "<table border=\"1\" class=\"dataframe\">\n",
       "  <thead>\n",
       "    <tr style=\"text-align: right;\">\n",
       "      <th></th>\n",
       "      <th>show_id</th>\n",
       "      <th>type</th>\n",
       "      <th>title</th>\n",
       "      <th>director</th>\n",
       "      <th>cast</th>\n",
       "      <th>country</th>\n",
       "      <th>date_added</th>\n",
       "      <th>release_year</th>\n",
       "      <th>rating</th>\n",
       "      <th>duration</th>\n",
       "      <th>listed_in</th>\n",
       "      <th>description</th>\n",
       "    </tr>\n",
       "  </thead>\n",
       "  <tbody>\n",
       "    <tr>\n",
       "      <th>1059</th>\n",
       "      <td>s1060</td>\n",
       "      <td>TV Show</td>\n",
       "      <td>House of Cards</td>\n",
       "      <td>NaN</td>\n",
       "      <td>Kevin Spacey, Robin Wright, Kate Mara, Corey S...</td>\n",
       "      <td>United States</td>\n",
       "      <td>April 14, 2021</td>\n",
       "      <td>2018</td>\n",
       "      <td>TV-MA</td>\n",
       "      <td>6 Seasons</td>\n",
       "      <td>TV Dramas, TV Thrillers</td>\n",
       "      <td>A ruthless politician will stop at nothing to ...</td>\n",
       "    </tr>\n",
       "  </tbody>\n",
       "</table>\n",
       "</div>"
      ],
      "text/plain": [
       "     show_id     type           title director  \\\n",
       "1059   s1060  TV Show  House of Cards      NaN   \n",
       "\n",
       "                                                   cast        country  \\\n",
       "1059  Kevin Spacey, Robin Wright, Kate Mara, Corey S...  United States   \n",
       "\n",
       "          date_added  release_year rating   duration                listed_in  \\\n",
       "1059  April 14, 2021          2018  TV-MA  6 Seasons  TV Dramas, TV Thrillers   \n",
       "\n",
       "                                            description  \n",
       "1059  A ruthless politician will stop at nothing to ...  "
      ]
     },
     "execution_count": 71,
     "metadata": {},
     "output_type": "execute_result"
    }
   ],
   "source": [
    "df[df['title'].isin(['House of Cards'])]         # To show all records of particular item in any column"
   ]
  },
  {
   "cell_type": "markdown",
   "id": "1bf4d0fd-cc7d-4692-8a6f-9f3a985f27a3",
   "metadata": {},
   "source": [
    "# str.contains()"
   ]
  },
  {
   "cell_type": "code",
   "execution_count": 74,
   "id": "ecf5d5ca-552e-44ec-afd6-d8f438ecdb6b",
   "metadata": {},
   "outputs": [
    {
     "data": {
      "text/html": [
       "<div>\n",
       "<style scoped>\n",
       "    .dataframe tbody tr th:only-of-type {\n",
       "        vertical-align: middle;\n",
       "    }\n",
       "\n",
       "    .dataframe tbody tr th {\n",
       "        vertical-align: top;\n",
       "    }\n",
       "\n",
       "    .dataframe thead th {\n",
       "        text-align: right;\n",
       "    }\n",
       "</style>\n",
       "<table border=\"1\" class=\"dataframe\">\n",
       "  <thead>\n",
       "    <tr style=\"text-align: right;\">\n",
       "      <th></th>\n",
       "      <th>show_id</th>\n",
       "      <th>type</th>\n",
       "      <th>title</th>\n",
       "      <th>director</th>\n",
       "      <th>cast</th>\n",
       "      <th>country</th>\n",
       "      <th>date_added</th>\n",
       "      <th>release_year</th>\n",
       "      <th>rating</th>\n",
       "      <th>duration</th>\n",
       "      <th>listed_in</th>\n",
       "      <th>description</th>\n",
       "    </tr>\n",
       "  </thead>\n",
       "  <tbody>\n",
       "    <tr>\n",
       "      <th>1059</th>\n",
       "      <td>s1060</td>\n",
       "      <td>TV Show</td>\n",
       "      <td>House of Cards</td>\n",
       "      <td>NaN</td>\n",
       "      <td>Kevin Spacey, Robin Wright, Kate Mara, Corey S...</td>\n",
       "      <td>United States</td>\n",
       "      <td>April 14, 2021</td>\n",
       "      <td>2018</td>\n",
       "      <td>TV-MA</td>\n",
       "      <td>6 Seasons</td>\n",
       "      <td>TV Dramas, TV Thrillers</td>\n",
       "      <td>A ruthless politician will stop at nothing to ...</td>\n",
       "    </tr>\n",
       "  </tbody>\n",
       "</table>\n",
       "</div>"
      ],
      "text/plain": [
       "     show_id     type           title director  \\\n",
       "1059   s1060  TV Show  House of Cards      NaN   \n",
       "\n",
       "                                                   cast        country  \\\n",
       "1059  Kevin Spacey, Robin Wright, Kate Mara, Corey S...  United States   \n",
       "\n",
       "          date_added  release_year rating   duration                listed_in  \\\n",
       "1059  April 14, 2021          2018  TV-MA  6 Seasons  TV Dramas, TV Thrillers   \n",
       "\n",
       "                                            description  \n",
       "1059  A ruthless politician will stop at nothing to ...  "
      ]
     },
     "execution_count": 74,
     "metadata": {},
     "output_type": "execute_result"
    }
   ],
   "source": [
    "df[df['title'].str.contains('House of Cards')]   # To show all records of particular string in any column"
   ]
  },
  {
   "cell_type": "markdown",
   "id": "579c9ac9-a7f2-4369-9e71-a863a8dffd4e",
   "metadata": {},
   "source": [
    " # Q2. In which year highest no of tv Shows and movies where released? Show with Bar Graph "
   ]
  },
  {
   "cell_type": "code",
   "execution_count": 77,
   "id": "b4827f4f-725e-4635-9bc7-8e81f7482b8e",
   "metadata": {},
   "outputs": [
    {
     "data": {
      "text/plain": [
       "show_id         object\n",
       "type            object\n",
       "title           object\n",
       "director        object\n",
       "cast            object\n",
       "country         object\n",
       "date_added      object\n",
       "release_year     int64\n",
       "rating          object\n",
       "duration        object\n",
       "listed_in       object\n",
       "description     object\n",
       "dtype: object"
      ]
     },
     "execution_count": 77,
     "metadata": {},
     "output_type": "execute_result"
    }
   ],
   "source": [
    "df.dtypes"
   ]
  },
  {
   "cell_type": "markdown",
   "id": "daaacb93-14d0-4404-b644-785fb08e1493",
   "metadata": {},
   "source": [
    "# To Date_Time"
   ]
  },
  {
   "cell_type": "code",
   "execution_count": 80,
   "id": "e8218008-c6bd-406e-94c2-5a2ef2b66c53",
   "metadata": {},
   "outputs": [],
   "source": [
    "df['release_date'] = pd.to_datetime(df['date_added'], format='mixed', errors='coerce')\n"
   ]
  },
  {
   "cell_type": "code",
   "execution_count": 81,
   "id": "d7fa003c-2c48-41d3-87ac-680fdf0fde4d",
   "metadata": {},
   "outputs": [
    {
     "data": {
      "text/html": [
       "<div>\n",
       "<style scoped>\n",
       "    .dataframe tbody tr th:only-of-type {\n",
       "        vertical-align: middle;\n",
       "    }\n",
       "\n",
       "    .dataframe tbody tr th {\n",
       "        vertical-align: top;\n",
       "    }\n",
       "\n",
       "    .dataframe thead th {\n",
       "        text-align: right;\n",
       "    }\n",
       "</style>\n",
       "<table border=\"1\" class=\"dataframe\">\n",
       "  <thead>\n",
       "    <tr style=\"text-align: right;\">\n",
       "      <th></th>\n",
       "      <th>show_id</th>\n",
       "      <th>type</th>\n",
       "      <th>title</th>\n",
       "      <th>director</th>\n",
       "      <th>cast</th>\n",
       "      <th>country</th>\n",
       "      <th>date_added</th>\n",
       "      <th>release_year</th>\n",
       "      <th>rating</th>\n",
       "      <th>duration</th>\n",
       "      <th>listed_in</th>\n",
       "      <th>description</th>\n",
       "      <th>release_date</th>\n",
       "    </tr>\n",
       "  </thead>\n",
       "  <tbody>\n",
       "    <tr>\n",
       "      <th>0</th>\n",
       "      <td>s1</td>\n",
       "      <td>Movie</td>\n",
       "      <td>Dick Johnson Is Dead</td>\n",
       "      <td>Kirsten Johnson</td>\n",
       "      <td>NaN</td>\n",
       "      <td>United States</td>\n",
       "      <td>September 25, 2021</td>\n",
       "      <td>2020</td>\n",
       "      <td>PG-13</td>\n",
       "      <td>90 min</td>\n",
       "      <td>Documentaries</td>\n",
       "      <td>As her father nears the end of his life, filmm...</td>\n",
       "      <td>2021-09-25</td>\n",
       "    </tr>\n",
       "    <tr>\n",
       "      <th>1</th>\n",
       "      <td>s2</td>\n",
       "      <td>TV Show</td>\n",
       "      <td>Blood &amp; Water</td>\n",
       "      <td>NaN</td>\n",
       "      <td>Ama Qamata, Khosi Ngema, Gail Mabalane, Thaban...</td>\n",
       "      <td>South Africa</td>\n",
       "      <td>September 24, 2021</td>\n",
       "      <td>2021</td>\n",
       "      <td>TV-MA</td>\n",
       "      <td>2 Seasons</td>\n",
       "      <td>International TV Shows, TV Dramas, TV Mysteries</td>\n",
       "      <td>After crossing paths at a party, a Cape Town t...</td>\n",
       "      <td>2021-09-24</td>\n",
       "    </tr>\n",
       "    <tr>\n",
       "      <th>2</th>\n",
       "      <td>s3</td>\n",
       "      <td>TV Show</td>\n",
       "      <td>Ganglands</td>\n",
       "      <td>Julien Leclercq</td>\n",
       "      <td>Sami Bouajila, Tracy Gotoas, Samuel Jouy, Nabi...</td>\n",
       "      <td>NaN</td>\n",
       "      <td>September 24, 2021</td>\n",
       "      <td>2021</td>\n",
       "      <td>TV-MA</td>\n",
       "      <td>1 Season</td>\n",
       "      <td>Crime TV Shows, International TV Shows, TV Act...</td>\n",
       "      <td>To protect his family from a powerful drug lor...</td>\n",
       "      <td>2021-09-24</td>\n",
       "    </tr>\n",
       "    <tr>\n",
       "      <th>3</th>\n",
       "      <td>s4</td>\n",
       "      <td>TV Show</td>\n",
       "      <td>Jailbirds New Orleans</td>\n",
       "      <td>NaN</td>\n",
       "      <td>NaN</td>\n",
       "      <td>NaN</td>\n",
       "      <td>September 24, 2021</td>\n",
       "      <td>2021</td>\n",
       "      <td>TV-MA</td>\n",
       "      <td>1 Season</td>\n",
       "      <td>Docuseries, Reality TV</td>\n",
       "      <td>Feuds, flirtations and toilet talk go down amo...</td>\n",
       "      <td>2021-09-24</td>\n",
       "    </tr>\n",
       "    <tr>\n",
       "      <th>4</th>\n",
       "      <td>s5</td>\n",
       "      <td>TV Show</td>\n",
       "      <td>Kota Factory</td>\n",
       "      <td>NaN</td>\n",
       "      <td>Mayur More, Jitendra Kumar, Ranjan Raj, Alam K...</td>\n",
       "      <td>India</td>\n",
       "      <td>September 24, 2021</td>\n",
       "      <td>2021</td>\n",
       "      <td>TV-MA</td>\n",
       "      <td>2 Seasons</td>\n",
       "      <td>International TV Shows, Romantic TV Shows, TV ...</td>\n",
       "      <td>In a city of coaching centers known to train I...</td>\n",
       "      <td>2021-09-24</td>\n",
       "    </tr>\n",
       "  </tbody>\n",
       "</table>\n",
       "</div>"
      ],
      "text/plain": [
       "  show_id     type                  title         director  \\\n",
       "0      s1    Movie   Dick Johnson Is Dead  Kirsten Johnson   \n",
       "1      s2  TV Show          Blood & Water              NaN   \n",
       "2      s3  TV Show              Ganglands  Julien Leclercq   \n",
       "3      s4  TV Show  Jailbirds New Orleans              NaN   \n",
       "4      s5  TV Show           Kota Factory              NaN   \n",
       "\n",
       "                                                cast        country  \\\n",
       "0                                                NaN  United States   \n",
       "1  Ama Qamata, Khosi Ngema, Gail Mabalane, Thaban...   South Africa   \n",
       "2  Sami Bouajila, Tracy Gotoas, Samuel Jouy, Nabi...            NaN   \n",
       "3                                                NaN            NaN   \n",
       "4  Mayur More, Jitendra Kumar, Ranjan Raj, Alam K...          India   \n",
       "\n",
       "           date_added  release_year rating   duration  \\\n",
       "0  September 25, 2021          2020  PG-13     90 min   \n",
       "1  September 24, 2021          2021  TV-MA  2 Seasons   \n",
       "2  September 24, 2021          2021  TV-MA   1 Season   \n",
       "3  September 24, 2021          2021  TV-MA   1 Season   \n",
       "4  September 24, 2021          2021  TV-MA  2 Seasons   \n",
       "\n",
       "                                           listed_in  \\\n",
       "0                                      Documentaries   \n",
       "1    International TV Shows, TV Dramas, TV Mysteries   \n",
       "2  Crime TV Shows, International TV Shows, TV Act...   \n",
       "3                             Docuseries, Reality TV   \n",
       "4  International TV Shows, Romantic TV Shows, TV ...   \n",
       "\n",
       "                                         description release_date  \n",
       "0  As her father nears the end of his life, filmm...   2021-09-25  \n",
       "1  After crossing paths at a party, a Cape Town t...   2021-09-24  \n",
       "2  To protect his family from a powerful drug lor...   2021-09-24  \n",
       "3  Feuds, flirtations and toilet talk go down amo...   2021-09-24  \n",
       "4  In a city of coaching centers known to train I...   2021-09-24  "
      ]
     },
     "execution_count": 81,
     "metadata": {},
     "output_type": "execute_result"
    }
   ],
   "source": [
    "df.head()"
   ]
  },
  {
   "cell_type": "code",
   "execution_count": 84,
   "id": "146f3b7d-5bf0-4a88-aaae-7dd2efa374a8",
   "metadata": {},
   "outputs": [
    {
     "data": {
      "text/plain": [
       "show_id                 object\n",
       "type                    object\n",
       "title                   object\n",
       "director                object\n",
       "cast                    object\n",
       "country                 object\n",
       "date_added              object\n",
       "release_year             int64\n",
       "rating                  object\n",
       "duration                object\n",
       "listed_in               object\n",
       "description             object\n",
       "release_date    datetime64[ns]\n",
       "dtype: object"
      ]
     },
     "execution_count": 84,
     "metadata": {},
     "output_type": "execute_result"
    }
   ],
   "source": [
    "df.dtypes"
   ]
  },
  {
   "cell_type": "markdown",
   "id": "cf0e2c9e-29db-4463-aa50-365f598f03f5",
   "metadata": {},
   "source": [
    "# dt.year.value_counts()"
   ]
  },
  {
   "cell_type": "code",
   "execution_count": 87,
   "id": "edf8c4d1-9387-4c1b-881b-10880abd3a6f",
   "metadata": {},
   "outputs": [
    {
     "data": {
      "text/plain": [
       "release_date\n",
       "2019.0    2016\n",
       "2020.0    1879\n",
       "2018.0    1649\n",
       "2021.0    1498\n",
       "2017.0    1188\n",
       "2016.0     429\n",
       "2015.0      82\n",
       "2014.0      24\n",
       "2011.0      13\n",
       "2013.0      11\n",
       "2012.0       3\n",
       "2009.0       2\n",
       "2008.0       2\n",
       "2010.0       1\n",
       "Name: count, dtype: int64"
      ]
     },
     "execution_count": 87,
     "metadata": {},
     "output_type": "execute_result"
    }
   ],
   "source": [
    "df['release_date'].dt.year.value_counts()  # It counts the occurance of all individual Years in Date column   "
   ]
  },
  {
   "cell_type": "markdown",
   "id": "69046f4f-37b9-4fdc-8d41-9b0296eddd0d",
   "metadata": {},
   "source": [
    "# Bar Graph"
   ]
  },
  {
   "cell_type": "code",
   "execution_count": 90,
   "id": "d516c83d-0432-402b-9619-ef19f943d44e",
   "metadata": {},
   "outputs": [
    {
     "data": {
      "text/plain": [
       "<Axes: xlabel='release_date'>"
      ]
     },
     "execution_count": 90,
     "metadata": {},
     "output_type": "execute_result"
    },
    {
     "data": {
      "image/png": "[encoded data removed]",
      "text/plain": [
       "<Figure size 640x480 with 1 Axes>"
      ]
     },
     "metadata": {},
     "output_type": "display_data"
    }
   ],
   "source": [
    "df['release_date'].dt.year.value_counts().plot(kind='bar')"
   ]
  },
  {
   "cell_type": "markdown",
   "id": "24766db2-33c2-4f87-9911-ecf695c13b4f",
   "metadata": {},
   "source": [
    "# Q.3 How many Movies & TV Shows are in the dataset? Show with Bar Graph"
   ]
  },
  {
   "cell_type": "code",
   "execution_count": 93,
   "id": "4c87b7cc-7f54-448c-a9bf-d07df9a6be52",
   "metadata": {},
   "outputs": [],
   "source": [
    "df = df.rename(columns={'type':'category'})\n"
   ]
  },
  {
   "cell_type": "markdown",
   "id": "1dd053cd-5aec-4f71-90ea-aac799ed1522",
   "metadata": {},
   "source": [
    "# groupby()"
   ]
  },
  {
   "cell_type": "code",
   "execution_count": 96,
   "id": "d2a44c92-9039-45a1-b9a5-94f02aaea285",
   "metadata": {},
   "outputs": [
    {
     "data": {
      "text/plain": [
       "category\n",
       "Movie      6131\n",
       "TV Show    2676\n",
       "Name: category, dtype: int64"
      ]
     },
     "execution_count": 96,
     "metadata": {},
     "output_type": "execute_result"
    }
   ],
   "source": [
    "df.groupby('category').category.count()         # To group all unique items of a column and show their count                    "
   ]
  },
  {
   "cell_type": "markdown",
   "id": "11305450-4d1c-403a-ab08-426bd845d1b6",
   "metadata": {},
   "source": [
    "# countplot()"
   ]
  },
  {
   "cell_type": "code",
   "execution_count": 101,
   "id": "1e61469c-42f6-48a5-b0a9-920bb040649d",
   "metadata": {},
   "outputs": [
    {
     "data": {
      "text/plain": [
       "<Axes: xlabel='count', ylabel='category'>"
      ]
     },
     "execution_count": 101,
     "metadata": {},
     "output_type": "execute_result"
    },
    {
     "data": {
      "image/png": "[encoded data removed]",
      "text/plain": [
       "<Figure size 640x480 with 1 Axes>"
      ]
     },
     "metadata": {},
     "output_type": "display_data"
    }
   ],
   "source": [
    "sns.countplot(df['category'])            # The show the count of all unique values  of any column in the form of bar graph"
   ]
  },
  {
   "cell_type": "markdown",
   "id": "85a172c0-9bcd-4a55-9da9-ff0e2d25646a",
   "metadata": {},
   "source": [
    "# Q.4 Show all the movies that where  released in year 2000 "
   ]
  },
  {
   "cell_type": "markdown",
   "id": "bd081f9c-a1ba-4d43-987f-9dc80137b3ed",
   "metadata": {},
   "source": [
    "# Creating  new column  "
   ]
  },
  {
   "cell_type": "code",
   "execution_count": 107,
   "id": "b46b23eb-d2c9-4f29-b862-e04c74364cc9",
   "metadata": {},
   "outputs": [],
   "source": [
    "df['year']= df['release_date'].dt.year"
   ]
  },
  {
   "cell_type": "code",
   "execution_count": 111,
   "id": "6ebaeb26-110c-47a6-b3f8-41ea6fd76066",
   "metadata": {},
   "outputs": [
    {
     "data": {
      "text/html": [
       "<div>\n",
       "<style scoped>\n",
       "    .dataframe tbody tr th:only-of-type {\n",
       "        vertical-align: middle;\n",
       "    }\n",
       "\n",
       "    .dataframe tbody tr th {\n",
       "        vertical-align: top;\n",
       "    }\n",
       "\n",
       "    .dataframe thead th {\n",
       "        text-align: right;\n",
       "    }\n",
       "</style>\n",
       "<table border=\"1\" class=\"dataframe\">\n",
       "  <thead>\n",
       "    <tr style=\"text-align: right;\">\n",
       "      <th></th>\n",
       "      <th>show_id</th>\n",
       "      <th>category</th>\n",
       "      <th>title</th>\n",
       "      <th>director</th>\n",
       "      <th>cast</th>\n",
       "      <th>country</th>\n",
       "      <th>date_added</th>\n",
       "      <th>release_year</th>\n",
       "      <th>rating</th>\n",
       "      <th>duration</th>\n",
       "      <th>listed_in</th>\n",
       "      <th>description</th>\n",
       "      <th>release_date</th>\n",
       "      <th>year</th>\n",
       "    </tr>\n",
       "  </thead>\n",
       "  <tbody>\n",
       "    <tr>\n",
       "      <th>0</th>\n",
       "      <td>s1</td>\n",
       "      <td>Movie</td>\n",
       "      <td>Dick Johnson Is Dead</td>\n",
       "      <td>Kirsten Johnson</td>\n",
       "      <td>NaN</td>\n",
       "      <td>United States</td>\n",
       "      <td>September 25, 2021</td>\n",
       "      <td>2020</td>\n",
       "      <td>PG-13</td>\n",
       "      <td>90 min</td>\n",
       "      <td>Documentaries</td>\n",
       "      <td>As her father nears the end of his life, filmm...</td>\n",
       "      <td>2021-09-25</td>\n",
       "      <td>2021.0</td>\n",
       "    </tr>\n",
       "  </tbody>\n",
       "</table>\n",
       "</div>"
      ],
      "text/plain": [
       "  show_id category                 title         director cast        country  \\\n",
       "0      s1    Movie  Dick Johnson Is Dead  Kirsten Johnson  NaN  United States   \n",
       "\n",
       "           date_added  release_year rating duration      listed_in  \\\n",
       "0  September 25, 2021          2020  PG-13   90 min  Documentaries   \n",
       "\n",
       "                                         description release_date    year  \n",
       "0  As her father nears the end of his life, filmm...   2021-09-25  2021.0  "
      ]
     },
     "execution_count": 111,
     "metadata": {},
     "output_type": "execute_result"
    }
   ],
   "source": [
    "df.head(1)"
   ]
  },
  {
   "cell_type": "markdown",
   "id": "fb524b63-42e1-4ec2-bb84-0017d3e0a41d",
   "metadata": {},
   "source": [
    "# Filtering"
   ]
  },
  {
   "cell_type": "code",
   "execution_count": 134,
   "id": "eddb2fba-690e-4fff-a374-277a49440f46",
   "metadata": {},
   "outputs": [],
   "source": [
    "df_filtered = df.query(\"category == 'Movie' and year == 2000\")\n"
   ]
  },
  {
   "cell_type": "code",
   "execution_count": 137,
   "id": "514af728-f3e0-4c13-b334-cccad83c4e67",
   "metadata": {},
   "outputs": [
    {
     "data": {
      "text/html": [
       "<div>\n",
       "<style scoped>\n",
       "    .dataframe tbody tr th:only-of-type {\n",
       "        vertical-align: middle;\n",
       "    }\n",
       "\n",
       "    .dataframe tbody tr th {\n",
       "        vertical-align: top;\n",
       "    }\n",
       "\n",
       "    .dataframe thead th {\n",
       "        text-align: right;\n",
       "    }\n",
       "</style>\n",
       "<table border=\"1\" class=\"dataframe\">\n",
       "  <thead>\n",
       "    <tr style=\"text-align: right;\">\n",
       "      <th></th>\n",
       "      <th>show_id</th>\n",
       "      <th>category</th>\n",
       "      <th>title</th>\n",
       "      <th>director</th>\n",
       "      <th>cast</th>\n",
       "      <th>country</th>\n",
       "      <th>date_added</th>\n",
       "      <th>release_year</th>\n",
       "      <th>rating</th>\n",
       "      <th>duration</th>\n",
       "      <th>listed_in</th>\n",
       "      <th>description</th>\n",
       "      <th>release_date</th>\n",
       "      <th>year</th>\n",
       "    </tr>\n",
       "  </thead>\n",
       "  <tbody>\n",
       "  </tbody>\n",
       "</table>\n",
       "</div>"
      ],
      "text/plain": [
       "Empty DataFrame\n",
       "Columns: [show_id, category, title, director, cast, country, date_added, release_year, rating, duration, listed_in, description, release_date, year]\n",
       "Index: []"
      ]
     },
     "execution_count": 137,
     "metadata": {},
     "output_type": "execute_result"
    }
   ],
   "source": [
    "df_filtered"
   ]
  },
  {
   "cell_type": "code",
   "execution_count": 139,
   "id": "7415fd4c-9ce7-411d-b512-9839c2142efe",
   "metadata": {},
   "outputs": [],
   "source": [
    "df_filtered = df.query(\"category == 'Movie' and year == 2020\")\n"
   ]
  },
  {
   "cell_type": "code",
   "execution_count": 213,
   "id": "905cebe5-b112-427c-9414-c9df5c1707a3",
   "metadata": {},
   "outputs": [
    {
     "data": {
      "text/plain": [
       "24                      Jeans\n",
       "105          Angamaly Diaries\n",
       "114                    Anjaam\n",
       "116                    Dhanak\n",
       "118                   Gurgaon\n",
       "                ...          \n",
       "8772    Yamla Pagla Deewana 2\n",
       "8773      Yanda Kartavya Aahe\n",
       "8798                 Zed Plus\n",
       "8799                    Zenda\n",
       "8806                   Zubaan\n",
       "Name: title, Length: 893, dtype: object"
      ]
     },
     "execution_count": 213,
     "metadata": {},
     "output_type": "execute_result"
    }
   ],
   "source": [
    "df_filtered"
   ]
  },
  {
   "cell_type": "markdown",
   "id": "07d9fc00-43ec-4bba-b52f-25b1232838b5",
   "metadata": {},
   "source": [
    "# Q.5 Show only the titles of all Movie that were released in india only"
   ]
  },
  {
   "cell_type": "markdown",
   "id": "15b89a4d-0171-49b9-85dd-1e34a236ca9f",
   "metadata": {},
   "source": [
    "# filtering "
   ]
  },
  {
   "cell_type": "code",
   "execution_count": 192,
   "id": "40aaa53c-40b4-4951-8b1c-9aa802344205",
   "metadata": {},
   "outputs": [],
   "source": [
    "df_filtered = df.query(\"category == 'Movie' and country == 'India'\")['title']\n"
   ]
  },
  {
   "cell_type": "code",
   "execution_count": 194,
   "id": "87dd1c15-76ee-4e37-ad9a-81fd8ceca4f8",
   "metadata": {},
   "outputs": [
    {
     "data": {
      "text/plain": [
       "24                      Jeans\n",
       "105          Angamaly Diaries\n",
       "114                    Anjaam\n",
       "116                    Dhanak\n",
       "118                   Gurgaon\n",
       "                ...          \n",
       "8772    Yamla Pagla Deewana 2\n",
       "8773      Yanda Kartavya Aahe\n",
       "8798                 Zed Plus\n",
       "8799                    Zenda\n",
       "8806                   Zubaan\n",
       "Name: title, Length: 893, dtype: object"
      ]
     },
     "execution_count": 194,
     "metadata": {},
     "output_type": "execute_result"
    }
   ],
   "source": [
    "df_filtered"
   ]
  },
  {
   "cell_type": "markdown",
   "id": "2066d184-db09-41c5-b8b6-ca02719c59fc",
   "metadata": {},
   "source": [
    "# Q.6  Show top 10 Directors, who have the highest number of Tv Shows and Movie  to netflix"
   ]
  },
  {
   "cell_type": "code",
   "execution_count": 200,
   "id": "cf8d2732-f246-4776-9618-e08fb7176761",
   "metadata": {},
   "outputs": [
    {
     "data": {
      "text/plain": [
       "director\n",
       "Rajiv Chilaka             19\n",
       "Raúl Campos, Jan Suter    18\n",
       "Marcus Raboy              16\n",
       "Suhas Kadav               16\n",
       "Jay Karas                 14\n",
       "Cathy Garcia-Molina       13\n",
       "Martin Scorsese           12\n",
       "Youssef Chahine           12\n",
       "Jay Chapman               12\n",
       "Steven Spielberg          11\n",
       "Name: count, dtype: int64"
      ]
     },
     "execution_count": 200,
     "metadata": {},
     "output_type": "execute_result"
    }
   ],
   "source": [
    "df['director'].value_counts().head(10)"
   ]
  },
  {
   "cell_type": "markdown",
   "id": "3d126474-ef5b-4736-b8ca-b112f59559d4",
   "metadata": {},
   "source": [
    "# Q.7 Show all the records, where \"category is Movie and type is comedies\" or \"Country is United Kingdom\" "
   ]
  },
  {
   "cell_type": "code",
   "execution_count": 291,
   "id": "1dbc4dc6-3700-456b-bdbb-04a622acaf5d",
   "metadata": {},
   "outputs": [],
   "source": [
    "df_filtered = df.query(\"(category == 'Movie' and  listed_in == 'Comedies') or country == 'United Kingdom'\")\n"
   ]
  },
  {
   "cell_type": "code",
   "execution_count": 287,
   "id": "81cc9059-6542-4e6b-aec4-5724afb88a96",
   "metadata": {},
   "outputs": [
    {
     "data": {
      "text/html": [
       "<div>\n",
       "<style scoped>\n",
       "    .dataframe tbody tr th:only-of-type {\n",
       "        vertical-align: middle;\n",
       "    }\n",
       "\n",
       "    .dataframe tbody tr th {\n",
       "        vertical-align: top;\n",
       "    }\n",
       "\n",
       "    .dataframe thead th {\n",
       "        text-align: right;\n",
       "    }\n",
       "</style>\n",
       "<table border=\"1\" class=\"dataframe\">\n",
       "  <thead>\n",
       "    <tr style=\"text-align: right;\">\n",
       "      <th></th>\n",
       "      <th>show_id</th>\n",
       "      <th>category</th>\n",
       "      <th>title</th>\n",
       "      <th>director</th>\n",
       "      <th>cast</th>\n",
       "      <th>country</th>\n",
       "      <th>date_added</th>\n",
       "      <th>release_year</th>\n",
       "      <th>rating</th>\n",
       "      <th>duration</th>\n",
       "      <th>listed_in</th>\n",
       "      <th>description</th>\n",
       "      <th>release_date</th>\n",
       "      <th>year</th>\n",
       "    </tr>\n",
       "  </thead>\n",
       "  <tbody>\n",
       "    <tr>\n",
       "      <th>341</th>\n",
       "      <td>s342</td>\n",
       "      <td>Movie</td>\n",
       "      <td>Magnolia</td>\n",
       "      <td>Paul Thomas Anderson</td>\n",
       "      <td>John C. Reilly, Philip Baker Hall, Tom Cruise,...</td>\n",
       "      <td>United States</td>\n",
       "      <td>August 1, 2021</td>\n",
       "      <td>1999</td>\n",
       "      <td>R</td>\n",
       "      <td>189 min</td>\n",
       "      <td>Dramas, Independent Movies</td>\n",
       "      <td>Through chance, history and divine interventio...</td>\n",
       "      <td>2021-08-01</td>\n",
       "      <td>2021.0</td>\n",
       "    </tr>\n",
       "    <tr>\n",
       "      <th>1254</th>\n",
       "      <td>s1255</td>\n",
       "      <td>Movie</td>\n",
       "      <td>Rain Man</td>\n",
       "      <td>Barry Levinson</td>\n",
       "      <td>Dustin Hoffman, Tom Cruise, Valeria Golino, Ge...</td>\n",
       "      <td>United States</td>\n",
       "      <td>March 1, 2021</td>\n",
       "      <td>1988</td>\n",
       "      <td>R</td>\n",
       "      <td>134 min</td>\n",
       "      <td>Classic Movies, Dramas</td>\n",
       "      <td>Motivated by money, a selfish workaholic seeki...</td>\n",
       "      <td>2021-03-01</td>\n",
       "      <td>2021.0</td>\n",
       "    </tr>\n",
       "  </tbody>\n",
       "</table>\n",
       "</div>"
      ],
      "text/plain": [
       "     show_id category     title              director  \\\n",
       "341     s342    Movie  Magnolia  Paul Thomas Anderson   \n",
       "1254   s1255    Movie  Rain Man        Barry Levinson   \n",
       "\n",
       "                                                   cast        country  \\\n",
       "341   John C. Reilly, Philip Baker Hall, Tom Cruise,...  United States   \n",
       "1254  Dustin Hoffman, Tom Cruise, Valeria Golino, Ge...  United States   \n",
       "\n",
       "          date_added  release_year rating duration  \\\n",
       "341   August 1, 2021          1999      R  189 min   \n",
       "1254   March 1, 2021          1988      R  134 min   \n",
       "\n",
       "                       listed_in  \\\n",
       "341   Dramas, Independent Movies   \n",
       "1254      Classic Movies, Dramas   \n",
       "\n",
       "                                            description release_date    year  \n",
       "341   Through chance, history and divine interventio...   2021-08-01  2021.0  \n",
       "1254  Motivated by money, a selfish workaholic seeki...   2021-03-01  2021.0  "
      ]
     },
     "execution_count": 287,
     "metadata": {},
     "output_type": "execute_result"
    }
   ],
   "source": [
    "df_filtered"
   ]
  },
  {
   "cell_type": "markdown",
   "id": "cdfbae06-22d0-4d28-83be-f1de19fc855b",
   "metadata": {},
   "source": [
    "# Q.8 In how many Movies/ Tv shows, Tom Cruise cast?"
   ]
  },
  {
   "cell_type": "markdown",
   "id": "69c7df9b-d015-459f-b004-0647ca36ed2b",
   "metadata": {},
   "source": [
    "# filtering"
   ]
  },
  {
   "cell_type": "code",
   "execution_count": 227,
   "id": "c68d0e06-32cc-4573-96ef-d93a9e9c2b0d",
   "metadata": {},
   "outputs": [
    {
     "data": {
      "text/plain": [
       "0       False\n",
       "1       False\n",
       "2       False\n",
       "3       False\n",
       "4       False\n",
       "        ...  \n",
       "8802    False\n",
       "8803    False\n",
       "8804    False\n",
       "8805    False\n",
       "8806    False\n",
       "Name: cast, Length: 8807, dtype: bool"
      ]
     },
     "execution_count": 227,
     "metadata": {},
     "output_type": "execute_result"
    }
   ],
   "source": [
    "df['cast'] == 'Tom Cruise'"
   ]
  },
  {
   "cell_type": "markdown",
   "id": "6fd743c3-d5f9-45b2-b135-f038d27905d8",
   "metadata": {},
   "source": [
    "# str_contains()"
   ]
  },
  {
   "cell_type": "code",
   "execution_count": 268,
   "id": "bcea0b87-16c2-4c43-bcd9-5d8f1aeac00d",
   "metadata": {},
   "outputs": [
    {
     "ename": "ValueError",
     "evalue": "Cannot mask with non-boolean array containing NA / NaN values",
     "output_type": "error",
     "traceback": [
      "\u001b[1;31m---------------------------------------------------------------------------\u001b[0m",
      "\u001b[1;31mValueError\u001b[0m                                Traceback (most recent call last)",
      "Cell \u001b[1;32mIn[268], line 1\u001b[0m\n\u001b[1;32m----> 1\u001b[0m df_filtered \u001b[38;5;241m=\u001b[39m \u001b[43mdf\u001b[49m\u001b[43m[\u001b[49m\u001b[43mdf\u001b[49m\u001b[43m[\u001b[49m\u001b[38;5;124;43m'\u001b[39;49m\u001b[38;5;124;43mcast\u001b[39;49m\u001b[38;5;124;43m'\u001b[39;49m\u001b[43m]\u001b[49m\u001b[38;5;241;43m.\u001b[39;49m\u001b[43mstr\u001b[49m\u001b[38;5;241;43m.\u001b[39;49m\u001b[43mcontains\u001b[49m\u001b[43m(\u001b[49m\u001b[38;5;124;43m'\u001b[39;49m\u001b[38;5;124;43mTom Cruise\u001b[39;49m\u001b[38;5;124;43m'\u001b[39;49m\u001b[43m)\u001b[49m\u001b[43m]\u001b[49m\n",
      "File \u001b[1;32m~\\anaconda3\\Lib\\site-packages\\pandas\\core\\frame.py:4092\u001b[0m, in \u001b[0;36mDataFrame.__getitem__\u001b[1;34m(self, key)\u001b[0m\n\u001b[0;32m   4089\u001b[0m     \u001b[38;5;28;01mreturn\u001b[39;00m \u001b[38;5;28mself\u001b[39m\u001b[38;5;241m.\u001b[39mwhere(key)\n\u001b[0;32m   4091\u001b[0m \u001b[38;5;66;03m# Do we have a (boolean) 1d indexer?\u001b[39;00m\n\u001b[1;32m-> 4092\u001b[0m \u001b[38;5;28;01mif\u001b[39;00m \u001b[43mcom\u001b[49m\u001b[38;5;241;43m.\u001b[39;49m\u001b[43mis_bool_indexer\u001b[49m\u001b[43m(\u001b[49m\u001b[43mkey\u001b[49m\u001b[43m)\u001b[49m:\n\u001b[0;32m   4093\u001b[0m     \u001b[38;5;28;01mreturn\u001b[39;00m \u001b[38;5;28mself\u001b[39m\u001b[38;5;241m.\u001b[39m_getitem_bool_array(key)\n\u001b[0;32m   4095\u001b[0m \u001b[38;5;66;03m# We are left with two options: a single key, and a collection of keys,\u001b[39;00m\n\u001b[0;32m   4096\u001b[0m \u001b[38;5;66;03m# We interpret tuples as collections only for non-MultiIndex\u001b[39;00m\n",
      "File \u001b[1;32m~\\anaconda3\\Lib\\site-packages\\pandas\\core\\common.py:136\u001b[0m, in \u001b[0;36mis_bool_indexer\u001b[1;34m(key)\u001b[0m\n\u001b[0;32m    132\u001b[0m     na_msg \u001b[38;5;241m=\u001b[39m \u001b[38;5;124m\"\u001b[39m\u001b[38;5;124mCannot mask with non-boolean array containing NA / NaN values\u001b[39m\u001b[38;5;124m\"\u001b[39m\n\u001b[0;32m    133\u001b[0m     \u001b[38;5;28;01mif\u001b[39;00m lib\u001b[38;5;241m.\u001b[39mis_bool_array(key_array, skipna\u001b[38;5;241m=\u001b[39m\u001b[38;5;28;01mTrue\u001b[39;00m):\n\u001b[0;32m    134\u001b[0m         \u001b[38;5;66;03m# Don't raise on e.g. [\"A\", \"B\", np.nan], see\u001b[39;00m\n\u001b[0;32m    135\u001b[0m         \u001b[38;5;66;03m#  test_loc_getitem_list_of_labels_categoricalindex_with_na\u001b[39;00m\n\u001b[1;32m--> 136\u001b[0m         \u001b[38;5;28;01mraise\u001b[39;00m \u001b[38;5;167;01mValueError\u001b[39;00m(na_msg)\n\u001b[0;32m    137\u001b[0m     \u001b[38;5;28;01mreturn\u001b[39;00m \u001b[38;5;28;01mFalse\u001b[39;00m\n\u001b[0;32m    138\u001b[0m \u001b[38;5;28;01mreturn\u001b[39;00m \u001b[38;5;28;01mTrue\u001b[39;00m\n",
      "\u001b[1;31mValueError\u001b[0m: Cannot mask with non-boolean array containing NA / NaN values"
     ]
    }
   ],
   "source": [
    "df_filtered = df[df['cast'].str.contains('Tom Cruise')]"
   ]
  },
  {
   "cell_type": "code",
   "execution_count": 270,
   "id": "08d3e9d0-22fb-4703-9535-83dc2b2a75b5",
   "metadata": {},
   "outputs": [
    {
     "data": {
      "text/html": [
       "<div>\n",
       "<style scoped>\n",
       "    .dataframe tbody tr th:only-of-type {\n",
       "        vertical-align: middle;\n",
       "    }\n",
       "\n",
       "    .dataframe tbody tr th {\n",
       "        vertical-align: top;\n",
       "    }\n",
       "\n",
       "    .dataframe thead th {\n",
       "        text-align: right;\n",
       "    }\n",
       "</style>\n",
       "<table border=\"1\" class=\"dataframe\">\n",
       "  <thead>\n",
       "    <tr style=\"text-align: right;\">\n",
       "      <th></th>\n",
       "      <th>show_id</th>\n",
       "      <th>category</th>\n",
       "      <th>title</th>\n",
       "      <th>director</th>\n",
       "      <th>cast</th>\n",
       "      <th>country</th>\n",
       "      <th>date_added</th>\n",
       "      <th>release_year</th>\n",
       "      <th>rating</th>\n",
       "      <th>duration</th>\n",
       "      <th>listed_in</th>\n",
       "      <th>description</th>\n",
       "      <th>release_date</th>\n",
       "      <th>year</th>\n",
       "    </tr>\n",
       "  </thead>\n",
       "  <tbody>\n",
       "    <tr>\n",
       "      <th>341</th>\n",
       "      <td>s342</td>\n",
       "      <td>Movie</td>\n",
       "      <td>Magnolia</td>\n",
       "      <td>Paul Thomas Anderson</td>\n",
       "      <td>John C. Reilly, Philip Baker Hall, Tom Cruise,...</td>\n",
       "      <td>United States</td>\n",
       "      <td>August 1, 2021</td>\n",
       "      <td>1999</td>\n",
       "      <td>R</td>\n",
       "      <td>189 min</td>\n",
       "      <td>Dramas, Independent Movies</td>\n",
       "      <td>Through chance, history and divine interventio...</td>\n",
       "      <td>2021-08-01</td>\n",
       "      <td>2021.0</td>\n",
       "    </tr>\n",
       "    <tr>\n",
       "      <th>1254</th>\n",
       "      <td>s1255</td>\n",
       "      <td>Movie</td>\n",
       "      <td>Rain Man</td>\n",
       "      <td>Barry Levinson</td>\n",
       "      <td>Dustin Hoffman, Tom Cruise, Valeria Golino, Ge...</td>\n",
       "      <td>United States</td>\n",
       "      <td>March 1, 2021</td>\n",
       "      <td>1988</td>\n",
       "      <td>R</td>\n",
       "      <td>134 min</td>\n",
       "      <td>Classic Movies, Dramas</td>\n",
       "      <td>Motivated by money, a selfish workaholic seeki...</td>\n",
       "      <td>2021-03-01</td>\n",
       "      <td>2021.0</td>\n",
       "    </tr>\n",
       "  </tbody>\n",
       "</table>\n",
       "</div>"
      ],
      "text/plain": [
       "     show_id category     title              director  \\\n",
       "341     s342    Movie  Magnolia  Paul Thomas Anderson   \n",
       "1254   s1255    Movie  Rain Man        Barry Levinson   \n",
       "\n",
       "                                                   cast        country  \\\n",
       "341   John C. Reilly, Philip Baker Hall, Tom Cruise,...  United States   \n",
       "1254  Dustin Hoffman, Tom Cruise, Valeria Golino, Ge...  United States   \n",
       "\n",
       "          date_added  release_year rating duration  \\\n",
       "341   August 1, 2021          1999      R  189 min   \n",
       "1254   March 1, 2021          1988      R  134 min   \n",
       "\n",
       "                       listed_in  \\\n",
       "341   Dramas, Independent Movies   \n",
       "1254      Classic Movies, Dramas   \n",
       "\n",
       "                                            description release_date    year  \n",
       "341   Through chance, history and divine interventio...   2021-08-01  2021.0  \n",
       "1254  Motivated by money, a selfish workaholic seeki...   2021-03-01  2021.0  "
      ]
     },
     "execution_count": 270,
     "metadata": {},
     "output_type": "execute_result"
    }
   ],
   "source": [
    "df_filtered"
   ]
  },
  {
   "cell_type": "markdown",
   "id": "eec427f0-2091-42e3-9d52-0e1a5e860c24",
   "metadata": {},
   "source": [
    "# Creating new dataframe"
   ]
  },
  {
   "cell_type": "code",
   "execution_count": 248,
   "id": "7d57c7c1-0b25-426e-ab0a-5f85f214fd0d",
   "metadata": {},
   "outputs": [],
   "source": [
    "new_df= df.dropna()"
   ]
  },
  {
   "cell_type": "code",
   "execution_count": 252,
   "id": "3235ba1f-e607-4e15-907d-ea5105687654",
   "metadata": {},
   "outputs": [],
   "source": [
    "df_filtered = new_df[new_df['cast'].str.contains('Tom Cruise')]"
   ]
  },
  {
   "cell_type": "code",
   "execution_count": 254,
   "id": "c32b71a5-94c1-4234-a5c0-9ee07d91fd43",
   "metadata": {},
   "outputs": [
    {
     "data": {
      "text/html": [
       "<div>\n",
       "<style scoped>\n",
       "    .dataframe tbody tr th:only-of-type {\n",
       "        vertical-align: middle;\n",
       "    }\n",
       "\n",
       "    .dataframe tbody tr th {\n",
       "        vertical-align: top;\n",
       "    }\n",
       "\n",
       "    .dataframe thead th {\n",
       "        text-align: right;\n",
       "    }\n",
       "</style>\n",
       "<table border=\"1\" class=\"dataframe\">\n",
       "  <thead>\n",
       "    <tr style=\"text-align: right;\">\n",
       "      <th></th>\n",
       "      <th>show_id</th>\n",
       "      <th>category</th>\n",
       "      <th>title</th>\n",
       "      <th>director</th>\n",
       "      <th>cast</th>\n",
       "      <th>country</th>\n",
       "      <th>date_added</th>\n",
       "      <th>release_year</th>\n",
       "      <th>rating</th>\n",
       "      <th>duration</th>\n",
       "      <th>listed_in</th>\n",
       "      <th>description</th>\n",
       "      <th>release_date</th>\n",
       "      <th>year</th>\n",
       "    </tr>\n",
       "  </thead>\n",
       "  <tbody>\n",
       "    <tr>\n",
       "      <th>341</th>\n",
       "      <td>s342</td>\n",
       "      <td>Movie</td>\n",
       "      <td>Magnolia</td>\n",
       "      <td>Paul Thomas Anderson</td>\n",
       "      <td>John C. Reilly, Philip Baker Hall, Tom Cruise,...</td>\n",
       "      <td>United States</td>\n",
       "      <td>August 1, 2021</td>\n",
       "      <td>1999</td>\n",
       "      <td>R</td>\n",
       "      <td>189 min</td>\n",
       "      <td>Dramas, Independent Movies</td>\n",
       "      <td>Through chance, history and divine interventio...</td>\n",
       "      <td>2021-08-01</td>\n",
       "      <td>2021.0</td>\n",
       "    </tr>\n",
       "    <tr>\n",
       "      <th>1254</th>\n",
       "      <td>s1255</td>\n",
       "      <td>Movie</td>\n",
       "      <td>Rain Man</td>\n",
       "      <td>Barry Levinson</td>\n",
       "      <td>Dustin Hoffman, Tom Cruise, Valeria Golino, Ge...</td>\n",
       "      <td>United States</td>\n",
       "      <td>March 1, 2021</td>\n",
       "      <td>1988</td>\n",
       "      <td>R</td>\n",
       "      <td>134 min</td>\n",
       "      <td>Classic Movies, Dramas</td>\n",
       "      <td>Motivated by money, a selfish workaholic seeki...</td>\n",
       "      <td>2021-03-01</td>\n",
       "      <td>2021.0</td>\n",
       "    </tr>\n",
       "  </tbody>\n",
       "</table>\n",
       "</div>"
      ],
      "text/plain": [
       "     show_id category     title              director  \\\n",
       "341     s342    Movie  Magnolia  Paul Thomas Anderson   \n",
       "1254   s1255    Movie  Rain Man        Barry Levinson   \n",
       "\n",
       "                                                   cast        country  \\\n",
       "341   John C. Reilly, Philip Baker Hall, Tom Cruise,...  United States   \n",
       "1254  Dustin Hoffman, Tom Cruise, Valeria Golino, Ge...  United States   \n",
       "\n",
       "          date_added  release_year rating duration  \\\n",
       "341   August 1, 2021          1999      R  189 min   \n",
       "1254   March 1, 2021          1988      R  134 min   \n",
       "\n",
       "                       listed_in  \\\n",
       "341   Dramas, Independent Movies   \n",
       "1254      Classic Movies, Dramas   \n",
       "\n",
       "                                            description release_date    year  \n",
       "341   Through chance, history and divine interventio...   2021-08-01  2021.0  \n",
       "1254  Motivated by money, a selfish workaholic seeki...   2021-03-01  2021.0  "
      ]
     },
     "execution_count": 254,
     "metadata": {},
     "output_type": "execute_result"
    }
   ],
   "source": [
    "df_filtered"
   ]
  },
  {
   "cell_type": "markdown",
   "id": "b846e2b1-0cba-40de-831e-d21bb9178cfe",
   "metadata": {},
   "source": [
    "# Q.9 What are the different Rating defined by Netflix?"
   ]
  },
  {
   "cell_type": "markdown",
   "id": "e02ce169-32d6-48af-9eb0-ed081c074498",
   "metadata": {},
   "source": [
    "# nunique()"
   ]
  },
  {
   "cell_type": "code",
   "execution_count": 275,
   "id": "60f78a00-ab12-49b8-a97c-395ef8dcae0f",
   "metadata": {},
   "outputs": [
    {
     "data": {
      "text/plain": [
       "14"
      ]
     },
     "execution_count": 275,
     "metadata": {},
     "output_type": "execute_result"
    }
   ],
   "source": [
    "new_df.rating.nunique()"
   ]
  },
  {
   "cell_type": "markdown",
   "id": "a92a8b1e-cf2c-4f04-9221-d90ee73c36ca",
   "metadata": {},
   "source": [
    "# unique()"
   ]
  },
  {
   "cell_type": "code",
   "execution_count": 282,
   "id": "9deac547-ce0b-4132-86b2-60ca5a518978",
   "metadata": {},
   "outputs": [
    {
     "data": {
      "text/plain": [
       "array(['TV-MA', 'TV-14', 'PG-13', 'PG', 'R', 'TV-PG', 'G', 'TV-Y7',\n",
       "       'TV-G', 'TV-Y', 'NC-17', 'NR', 'TV-Y7-FV', 'UR'], dtype=object)"
      ]
     },
     "execution_count": 282,
     "metadata": {},
     "output_type": "execute_result"
    }
   ],
   "source": [
    "new_df.rating.unique()"
   ]
  },
  {
   "cell_type": "markdown",
   "id": "f31abc00-f6cf-4675-b9dd-5f318b6522f5",
   "metadata": {},
   "source": [
    "# Q.9.1  How many movies got the 'TV-14' rating in canada"
   ]
  },
  {
   "cell_type": "code",
   "execution_count": 366,
   "id": "856a2913-0fe0-425c-89a7-84062df84793",
   "metadata": {},
   "outputs": [
    {
     "data": {
      "text/plain": [
       "(1427, 14)"
      ]
     },
     "execution_count": 366,
     "metadata": {},
     "output_type": "execute_result"
    }
   ],
   "source": [
    "df[(df['category'] == 'Movie') & (df['rating'] == 'TV-14')].shape"
   ]
  },
  {
   "cell_type": "code",
   "execution_count": 364,
   "id": "3f2617ef-7717-4e9b-b391-79d67a67b0c9",
   "metadata": {},
   "outputs": [
    {
     "data": {
      "text/plain": [
       "(13, 14)"
      ]
     },
     "execution_count": 364,
     "metadata": {},
     "output_type": "execute_result"
    }
   ],
   "source": [
    "df[(df['category'] == 'Movie') & (df['rating'] == 'TV-14') & (df['country'] == 'Canada')].shape"
   ]
  },
  {
   "cell_type": "markdown",
   "id": "5448ef14-5a7e-4130-b42a-bc1b7bc8238a",
   "metadata": {},
   "source": [
    "# Q.9.2 How many 'TV Show got the 'R' rating, after year 2018"
   ]
  },
  {
   "cell_type": "code",
   "execution_count": 368,
   "id": "ce110a9d-6eb5-4b45-802b-2473ad77a059",
   "metadata": {},
   "outputs": [
    {
     "data": {
      "text/html": [
       "<div>\n",
       "<style scoped>\n",
       "    .dataframe tbody tr th:only-of-type {\n",
       "        vertical-align: middle;\n",
       "    }\n",
       "\n",
       "    .dataframe tbody tr th {\n",
       "        vertical-align: top;\n",
       "    }\n",
       "\n",
       "    .dataframe thead th {\n",
       "        text-align: right;\n",
       "    }\n",
       "</style>\n",
       "<table border=\"1\" class=\"dataframe\">\n",
       "  <thead>\n",
       "    <tr style=\"text-align: right;\">\n",
       "      <th></th>\n",
       "      <th>show_id</th>\n",
       "      <th>category</th>\n",
       "      <th>title</th>\n",
       "      <th>director</th>\n",
       "      <th>cast</th>\n",
       "      <th>country</th>\n",
       "      <th>date_added</th>\n",
       "      <th>release_year</th>\n",
       "      <th>rating</th>\n",
       "      <th>duration</th>\n",
       "      <th>listed_in</th>\n",
       "      <th>description</th>\n",
       "      <th>release_date</th>\n",
       "      <th>year</th>\n",
       "    </tr>\n",
       "  </thead>\n",
       "  <tbody>\n",
       "    <tr>\n",
       "      <th>3893</th>\n",
       "      <td>s3894</td>\n",
       "      <td>TV Show</td>\n",
       "      <td>The Hateful Eight: Extended Version</td>\n",
       "      <td>Quentin Tarantino</td>\n",
       "      <td>Samuel L. Jackson, Kurt Russell, Jennifer Jaso...</td>\n",
       "      <td>NaN</td>\n",
       "      <td>April 25, 2019</td>\n",
       "      <td>2015</td>\n",
       "      <td>R</td>\n",
       "      <td>1 Season</td>\n",
       "      <td>TV Shows</td>\n",
       "      <td>Trapped at a stagecoach stop as a storm rages ...</td>\n",
       "      <td>2019-04-25</td>\n",
       "      <td>2019.0</td>\n",
       "    </tr>\n",
       "    <tr>\n",
       "      <th>7593</th>\n",
       "      <td>s7594</td>\n",
       "      <td>TV Show</td>\n",
       "      <td>Nobel</td>\n",
       "      <td>NaN</td>\n",
       "      <td>Aksel Hennie, Tuva Novotny, Anders Danielsen L...</td>\n",
       "      <td>Norway</td>\n",
       "      <td>December 10, 2016</td>\n",
       "      <td>2016</td>\n",
       "      <td>R</td>\n",
       "      <td>1 Season</td>\n",
       "      <td>International TV Shows, TV Dramas, TV Thrillers</td>\n",
       "      <td>A series of incidents in Afghanistan set compl...</td>\n",
       "      <td>2016-12-10</td>\n",
       "      <td>2016.0</td>\n",
       "    </tr>\n",
       "  </tbody>\n",
       "</table>\n",
       "</div>"
      ],
      "text/plain": [
       "     show_id category                                title           director  \\\n",
       "3893   s3894  TV Show  The Hateful Eight: Extended Version  Quentin Tarantino   \n",
       "7593   s7594  TV Show                                Nobel                NaN   \n",
       "\n",
       "                                                   cast country  \\\n",
       "3893  Samuel L. Jackson, Kurt Russell, Jennifer Jaso...     NaN   \n",
       "7593  Aksel Hennie, Tuva Novotny, Anders Danielsen L...  Norway   \n",
       "\n",
       "             date_added  release_year rating  duration  \\\n",
       "3893     April 25, 2019          2015      R  1 Season   \n",
       "7593  December 10, 2016          2016      R  1 Season   \n",
       "\n",
       "                                            listed_in  \\\n",
       "3893                                         TV Shows   \n",
       "7593  International TV Shows, TV Dramas, TV Thrillers   \n",
       "\n",
       "                                            description release_date    year  \n",
       "3893  Trapped at a stagecoach stop as a storm rages ...   2019-04-25  2019.0  \n",
       "7593  A series of incidents in Afghanistan set compl...   2016-12-10  2016.0  "
      ]
     },
     "execution_count": 368,
     "metadata": {},
     "output_type": "execute_result"
    }
   ],
   "source": [
    "df[(df['category'] == 'TV Show') & (df['rating'] == 'R')]"
   ]
  },
  {
   "cell_type": "code",
   "execution_count": 372,
   "id": "2acb8836-ae75-4c03-b28c-282c450e0e91",
   "metadata": {},
   "outputs": [
    {
     "data": {
      "text/html": [
       "<div>\n",
       "<style scoped>\n",
       "    .dataframe tbody tr th:only-of-type {\n",
       "        vertical-align: middle;\n",
       "    }\n",
       "\n",
       "    .dataframe tbody tr th {\n",
       "        vertical-align: top;\n",
       "    }\n",
       "\n",
       "    .dataframe thead th {\n",
       "        text-align: right;\n",
       "    }\n",
       "</style>\n",
       "<table border=\"1\" class=\"dataframe\">\n",
       "  <thead>\n",
       "    <tr style=\"text-align: right;\">\n",
       "      <th></th>\n",
       "      <th>show_id</th>\n",
       "      <th>category</th>\n",
       "      <th>title</th>\n",
       "      <th>director</th>\n",
       "      <th>cast</th>\n",
       "      <th>country</th>\n",
       "      <th>date_added</th>\n",
       "      <th>release_year</th>\n",
       "      <th>rating</th>\n",
       "      <th>duration</th>\n",
       "      <th>listed_in</th>\n",
       "      <th>description</th>\n",
       "      <th>release_date</th>\n",
       "      <th>year</th>\n",
       "    </tr>\n",
       "  </thead>\n",
       "  <tbody>\n",
       "    <tr>\n",
       "      <th>3893</th>\n",
       "      <td>s3894</td>\n",
       "      <td>TV Show</td>\n",
       "      <td>The Hateful Eight: Extended Version</td>\n",
       "      <td>Quentin Tarantino</td>\n",
       "      <td>Samuel L. Jackson, Kurt Russell, Jennifer Jaso...</td>\n",
       "      <td>NaN</td>\n",
       "      <td>April 25, 2019</td>\n",
       "      <td>2015</td>\n",
       "      <td>R</td>\n",
       "      <td>1 Season</td>\n",
       "      <td>TV Shows</td>\n",
       "      <td>Trapped at a stagecoach stop as a storm rages ...</td>\n",
       "      <td>2019-04-25</td>\n",
       "      <td>2019.0</td>\n",
       "    </tr>\n",
       "  </tbody>\n",
       "</table>\n",
       "</div>"
      ],
      "text/plain": [
       "     show_id category                                title           director  \\\n",
       "3893   s3894  TV Show  The Hateful Eight: Extended Version  Quentin Tarantino   \n",
       "\n",
       "                                                   cast country  \\\n",
       "3893  Samuel L. Jackson, Kurt Russell, Jennifer Jaso...     NaN   \n",
       "\n",
       "          date_added  release_year rating  duration listed_in  \\\n",
       "3893  April 25, 2019          2015      R  1 Season  TV Shows   \n",
       "\n",
       "                                            description release_date    year  \n",
       "3893  Trapped at a stagecoach stop as a storm rages ...   2019-04-25  2019.0  "
      ]
     },
     "execution_count": 372,
     "metadata": {},
     "output_type": "execute_result"
    }
   ],
   "source": [
    "df[(df['category'] == 'TV Show') & (df['rating'] == 'R') & (df['year'] > 2018)]"
   ]
  },
  {
   "cell_type": "markdown",
   "id": "175fa77b-8b57-45b8-86ca-e10f16a7b20a",
   "metadata": {},
   "source": [
    "# Q.10 What is the Maximum duration of a Movie/TV Show on netflix?"
   ]
  },
  {
   "cell_type": "code",
   "execution_count": 377,
   "id": "a2da6e7b-a5dd-4efc-ac00-6f9c7c0d7ccf",
   "metadata": {},
   "outputs": [
    {
     "data": {
      "text/plain": [
       "array(['90 min', '2 Seasons', '1 Season', '91 min', '125 min',\n",
       "       '9 Seasons', '104 min', '127 min', '4 Seasons', '67 min', '94 min',\n",
       "       '5 Seasons', '161 min', '61 min', '166 min', '147 min', '103 min',\n",
       "       '97 min', '106 min', '111 min', '3 Seasons', '110 min', '105 min',\n",
       "       '96 min', '124 min', '116 min', '98 min', '23 min', '115 min',\n",
       "       '122 min', '99 min', '88 min', '100 min', '6 Seasons', '102 min',\n",
       "       '93 min', '95 min', '85 min', '83 min', '113 min', '13 min',\n",
       "       '182 min', '48 min', '145 min', '87 min', '92 min', '80 min',\n",
       "       '117 min', '128 min', '119 min', '143 min', '114 min', '118 min',\n",
       "       '108 min', '63 min', '121 min', '142 min', '154 min', '120 min',\n",
       "       '82 min', '109 min', '101 min', '86 min', '229 min', '76 min',\n",
       "       '89 min', '156 min', '112 min', '107 min', '129 min', '135 min',\n",
       "       '136 min', '165 min', '150 min', '133 min', '70 min', '84 min',\n",
       "       '140 min', '78 min', '7 Seasons', '64 min', '59 min', '139 min',\n",
       "       '69 min', '148 min', '189 min', '141 min', '130 min', '138 min',\n",
       "       '81 min', '132 min', '10 Seasons', '123 min', '65 min', '68 min',\n",
       "       '66 min', '62 min', '74 min', '131 min', '39 min', '46 min',\n",
       "       '38 min', '8 Seasons', '17 Seasons', '126 min', '155 min',\n",
       "       '159 min', '137 min', '12 min', '273 min', '36 min', '34 min',\n",
       "       '77 min', '60 min', '49 min', '58 min', '72 min', '204 min',\n",
       "       '212 min', '25 min', '73 min', '29 min', '47 min', '32 min',\n",
       "       '35 min', '71 min', '149 min', '33 min', '15 min', '54 min',\n",
       "       '224 min', '162 min', '37 min', '75 min', '79 min', '55 min',\n",
       "       '158 min', '164 min', '173 min', '181 min', '185 min', '21 min',\n",
       "       '24 min', '51 min', '151 min', '42 min', '22 min', '134 min',\n",
       "       '177 min', '13 Seasons', '52 min', '14 min', '53 min', '8 min',\n",
       "       '57 min', '28 min', '50 min', '9 min', '26 min', '45 min',\n",
       "       '171 min', '27 min', '44 min', '146 min', '20 min', '157 min',\n",
       "       '17 min', '203 min', '41 min', '30 min', '194 min', '15 Seasons',\n",
       "       '233 min', '237 min', '230 min', '195 min', '253 min', '152 min',\n",
       "       '190 min', '160 min', '208 min', '180 min', '144 min', '5 min',\n",
       "       '174 min', '170 min', '192 min', '209 min', '187 min', '172 min',\n",
       "       '16 min', '186 min', '11 min', '193 min', '176 min', '56 min',\n",
       "       '169 min', '40 min', '10 min', '3 min', '168 min', '312 min',\n",
       "       '153 min', '214 min', '31 min', '163 min', '19 min', '12 Seasons',\n",
       "       nan, '179 min', '11 Seasons', '43 min', '200 min', '196 min',\n",
       "       '167 min', '178 min', '228 min', '18 min', '205 min', '201 min',\n",
       "       '191 min'], dtype=object)"
      ]
     },
     "execution_count": 377,
     "metadata": {},
     "output_type": "execute_result"
    }
   ],
   "source": [
    "df['duration'].unique()"
   ]
  },
  {
   "cell_type": "code",
   "execution_count": 408,
   "id": "8ff852cf-86b7-47e7-9c3a-36e089568647",
   "metadata": {},
   "outputs": [
    {
     "data": {
      "text/plain": [
       "show_id                 object\n",
       "category                object\n",
       "title                   object\n",
       "director                object\n",
       "cast                    object\n",
       "country                 object\n",
       "date_added              object\n",
       "release_year             int64\n",
       "rating                  object\n",
       "duration                object\n",
       "listed_in               object\n",
       "description             object\n",
       "release_date    datetime64[ns]\n",
       "year                   float64\n",
       "Minutes                 object\n",
       "Unit                    object\n",
       "dtype: object"
      ]
     },
     "execution_count": 408,
     "metadata": {},
     "output_type": "execute_result"
    }
   ],
   "source": [
    "df.dtypes"
   ]
  },
  {
   "cell_type": "markdown",
   "id": "c7d6a698-b3f7-4b11-97db-1a46a22d9327",
   "metadata": {},
   "source": [
    "# str.spilt()"
   ]
  },
  {
   "cell_type": "code",
   "execution_count": 400,
   "id": "de0e3a82-9f8b-4215-96a5-dd1366bda592",
   "metadata": {},
   "outputs": [],
   "source": [
    "df[['Minutes','Unit']]= df['duration'].str.split(' ', expand= True)"
   ]
  },
  {
   "cell_type": "code",
   "execution_count": 410,
   "id": "c24e56e9-8fa6-46e5-b9d1-9501b73c9e02",
   "metadata": {},
   "outputs": [
    {
     "data": {
      "text/html": [
       "<div>\n",
       "<style scoped>\n",
       "    .dataframe tbody tr th:only-of-type {\n",
       "        vertical-align: middle;\n",
       "    }\n",
       "\n",
       "    .dataframe tbody tr th {\n",
       "        vertical-align: top;\n",
       "    }\n",
       "\n",
       "    .dataframe thead th {\n",
       "        text-align: right;\n",
       "    }\n",
       "</style>\n",
       "<table border=\"1\" class=\"dataframe\">\n",
       "  <thead>\n",
       "    <tr style=\"text-align: right;\">\n",
       "      <th></th>\n",
       "      <th>Minutes</th>\n",
       "      <th>Unit</th>\n",
       "    </tr>\n",
       "  </thead>\n",
       "  <tbody>\n",
       "    <tr>\n",
       "      <th>0</th>\n",
       "      <td>90</td>\n",
       "      <td>min</td>\n",
       "    </tr>\n",
       "    <tr>\n",
       "      <th>1</th>\n",
       "      <td>2</td>\n",
       "      <td>Seasons</td>\n",
       "    </tr>\n",
       "    <tr>\n",
       "      <th>2</th>\n",
       "      <td>1</td>\n",
       "      <td>Season</td>\n",
       "    </tr>\n",
       "    <tr>\n",
       "      <th>3</th>\n",
       "      <td>1</td>\n",
       "      <td>Season</td>\n",
       "    </tr>\n",
       "    <tr>\n",
       "      <th>4</th>\n",
       "      <td>2</td>\n",
       "      <td>Seasons</td>\n",
       "    </tr>\n",
       "    <tr>\n",
       "      <th>...</th>\n",
       "      <td>...</td>\n",
       "      <td>...</td>\n",
       "    </tr>\n",
       "    <tr>\n",
       "      <th>8802</th>\n",
       "      <td>158</td>\n",
       "      <td>min</td>\n",
       "    </tr>\n",
       "    <tr>\n",
       "      <th>8803</th>\n",
       "      <td>2</td>\n",
       "      <td>Seasons</td>\n",
       "    </tr>\n",
       "    <tr>\n",
       "      <th>8804</th>\n",
       "      <td>88</td>\n",
       "      <td>min</td>\n",
       "    </tr>\n",
       "    <tr>\n",
       "      <th>8805</th>\n",
       "      <td>88</td>\n",
       "      <td>min</td>\n",
       "    </tr>\n",
       "    <tr>\n",
       "      <th>8806</th>\n",
       "      <td>111</td>\n",
       "      <td>min</td>\n",
       "    </tr>\n",
       "  </tbody>\n",
       "</table>\n",
       "<p>8807 rows × 2 columns</p>\n",
       "</div>"
      ],
      "text/plain": [
       "     Minutes     Unit\n",
       "0         90      min\n",
       "1          2  Seasons\n",
       "2          1   Season\n",
       "3          1   Season\n",
       "4          2  Seasons\n",
       "...      ...      ...\n",
       "8802     158      min\n",
       "8803       2  Seasons\n",
       "8804      88      min\n",
       "8805      88      min\n",
       "8806     111      min\n",
       "\n",
       "[8807 rows x 2 columns]"
      ]
     },
     "execution_count": 410,
     "metadata": {},
     "output_type": "execute_result"
    }
   ],
   "source": [
    "df[['Minutes','Unit']]"
   ]
  },
  {
   "cell_type": "code",
   "execution_count": 414,
   "id": "ca02bc44-0272-481e-be28-8131cd626607",
   "metadata": {},
   "outputs": [],
   "source": [
    "df['Minutes'] = pd.to_numeric(df['Minutes'], errors='coerce')\n"
   ]
  },
  {
   "cell_type": "markdown",
   "id": "dbee2857-ee44-4a9d-8a3d-b18d32ec72a7",
   "metadata": {},
   "source": [
    "# max()"
   ]
  },
  {
   "cell_type": "code",
   "execution_count": 417,
   "id": "33d40687-7bda-4ee2-9252-fc983ee6664e",
   "metadata": {},
   "outputs": [
    {
     "data": {
      "text/plain": [
       "312.0"
      ]
     },
     "execution_count": 417,
     "metadata": {},
     "output_type": "execute_result"
    }
   ],
   "source": [
    "df['Minutes'].max()"
   ]
  },
  {
   "cell_type": "markdown",
   "id": "edd7db6e-f1f5-42c5-b675-e3f7240f1e6d",
   "metadata": {},
   "source": [
    "# min()"
   ]
  },
  {
   "cell_type": "code",
   "execution_count": 420,
   "id": "211cdae8-3690-47ca-ab4c-03901f589001",
   "metadata": {},
   "outputs": [
    {
     "data": {
      "text/plain": [
       "1.0"
      ]
     },
     "execution_count": 420,
     "metadata": {},
     "output_type": "execute_result"
    }
   ],
   "source": [
    "df['Minutes'].min()"
   ]
  },
  {
   "cell_type": "markdown",
   "id": "f00502d1-6103-4ee2-b5ef-38b470e5cadb",
   "metadata": {},
   "source": [
    "# mean()"
   ]
  },
  {
   "cell_type": "code",
   "execution_count": 426,
   "id": "a3946d4a-e43e-4af3-b05c-66cdcab8cf05",
   "metadata": {},
   "outputs": [
    {
     "data": {
      "text/plain": [
       "69.84688777828259"
      ]
     },
     "execution_count": 426,
     "metadata": {},
     "output_type": "execute_result"
    }
   ],
   "source": [
    "df['Minutes'].mean()"
   ]
  },
  {
   "cell_type": "markdown",
   "id": "8498dc97-2657-4f6f-9f65-79bd9d6c458b",
   "metadata": {},
   "source": [
    "# Q.11 Which individual country has the highest No. of Tv Shows? "
   ]
  },
  {
   "cell_type": "code",
   "execution_count": 441,
   "id": "4e17cbac-c2f2-4f75-8a51-fa07decacac9",
   "metadata": {},
   "outputs": [],
   "source": [
    "df_tvshows = df[df['category'] == 'TV Show']"
   ]
  },
  {
   "cell_type": "code",
   "execution_count": 447,
   "id": "b7a27873-ccf6-4fa1-97a3-b1e2b3f04c66",
   "metadata": {},
   "outputs": [
    {
     "data": {
      "text/plain": [
       "country\n",
       "United States    760\n",
       "Name: count, dtype: int64"
      ]
     },
     "execution_count": 447,
     "metadata": {},
     "output_type": "execute_result"
    }
   ],
   "source": [
    "df_tvshows.country.value_counts().head(1)"
   ]
  },
  {
   "cell_type": "markdown",
   "id": "a64f78b4-6695-4104-9708-11b2718c5ad7",
   "metadata": {},
   "source": [
    "# Q.12 How can we sort the dataset by year?"
   ]
  },
  {
   "cell_type": "code",
   "execution_count": 466,
   "id": "a25fad57-dde6-4050-87b2-f35c08054d1c",
   "metadata": {},
   "outputs": [
    {
     "data": {
      "text/html": [
       "<div>\n",
       "<style scoped>\n",
       "    .dataframe tbody tr th:only-of-type {\n",
       "        vertical-align: middle;\n",
       "    }\n",
       "\n",
       "    .dataframe tbody tr th {\n",
       "        vertical-align: top;\n",
       "    }\n",
       "\n",
       "    .dataframe thead th {\n",
       "        text-align: right;\n",
       "    }\n",
       "</style>\n",
       "<table border=\"1\" class=\"dataframe\">\n",
       "  <thead>\n",
       "    <tr style=\"text-align: right;\">\n",
       "      <th></th>\n",
       "      <th>show_id</th>\n",
       "      <th>category</th>\n",
       "      <th>title</th>\n",
       "      <th>director</th>\n",
       "      <th>cast</th>\n",
       "      <th>country</th>\n",
       "      <th>date_added</th>\n",
       "      <th>release_year</th>\n",
       "      <th>rating</th>\n",
       "      <th>duration</th>\n",
       "      <th>listed_in</th>\n",
       "      <th>description</th>\n",
       "      <th>release_date</th>\n",
       "      <th>year</th>\n",
       "      <th>Minutes</th>\n",
       "      <th>Unit</th>\n",
       "    </tr>\n",
       "  </thead>\n",
       "  <tbody>\n",
       "    <tr>\n",
       "      <th>0</th>\n",
       "      <td>s1</td>\n",
       "      <td>Movie</td>\n",
       "      <td>Dick Johnson Is Dead</td>\n",
       "      <td>Kirsten Johnson</td>\n",
       "      <td>NaN</td>\n",
       "      <td>United States</td>\n",
       "      <td>September 25, 2021</td>\n",
       "      <td>2020</td>\n",
       "      <td>PG-13</td>\n",
       "      <td>90 min</td>\n",
       "      <td>Documentaries</td>\n",
       "      <td>As her father nears the end of his life, filmm...</td>\n",
       "      <td>2021-09-25</td>\n",
       "      <td>2021.0</td>\n",
       "      <td>90.0</td>\n",
       "      <td>min</td>\n",
       "    </tr>\n",
       "  </tbody>\n",
       "</table>\n",
       "</div>"
      ],
      "text/plain": [
       "  show_id category                 title         director cast        country  \\\n",
       "0      s1    Movie  Dick Johnson Is Dead  Kirsten Johnson  NaN  United States   \n",
       "\n",
       "           date_added  release_year rating duration      listed_in  \\\n",
       "0  September 25, 2021          2020  PG-13   90 min  Documentaries   \n",
       "\n",
       "                                         description release_date    year  \\\n",
       "0  As her father nears the end of his life, filmm...   2021-09-25  2021.0   \n",
       "\n",
       "   Minutes Unit  \n",
       "0     90.0  min  "
      ]
     },
     "execution_count": 466,
     "metadata": {},
     "output_type": "execute_result"
    }
   ],
   "source": [
    "df.sort_values(by='year', ascending= False).head(1)"
   ]
  },
  {
   "cell_type": "markdown",
   "id": "faf46491-cbec-4e0d-9ae8-be4e62448f7d",
   "metadata": {},
   "source": [
    "# Q.13 Find all the instances Where:\n",
    "Category is 'Movie' and listed_in in 'Dramas'\n",
    "Or\n",
    "category is 'TV Shows' and listed_in in 'Kids' 'Tv'"
   ]
  },
  {
   "cell_type": "code",
   "execution_count": 476,
   "id": "b487da51-c1a0-4a68-9ff1-1bf9f0e9b427",
   "metadata": {},
   "outputs": [
    {
     "data": {
      "text/html": [
       "<div>\n",
       "<style scoped>\n",
       "    .dataframe tbody tr th:only-of-type {\n",
       "        vertical-align: middle;\n",
       "    }\n",
       "\n",
       "    .dataframe tbody tr th {\n",
       "        vertical-align: top;\n",
       "    }\n",
       "\n",
       "    .dataframe thead th {\n",
       "        text-align: right;\n",
       "    }\n",
       "</style>\n",
       "<table border=\"1\" class=\"dataframe\">\n",
       "  <thead>\n",
       "    <tr style=\"text-align: right;\">\n",
       "      <th></th>\n",
       "      <th>show_id</th>\n",
       "      <th>category</th>\n",
       "      <th>title</th>\n",
       "      <th>director</th>\n",
       "      <th>cast</th>\n",
       "      <th>country</th>\n",
       "      <th>date_added</th>\n",
       "      <th>release_year</th>\n",
       "      <th>rating</th>\n",
       "      <th>duration</th>\n",
       "      <th>listed_in</th>\n",
       "      <th>description</th>\n",
       "      <th>release_date</th>\n",
       "      <th>year</th>\n",
       "      <th>Minutes</th>\n",
       "      <th>Unit</th>\n",
       "    </tr>\n",
       "  </thead>\n",
       "  <tbody>\n",
       "    <tr>\n",
       "      <th>112</th>\n",
       "      <td>s113</td>\n",
       "      <td>Movie</td>\n",
       "      <td>Worth</td>\n",
       "      <td>Sara Colangelo</td>\n",
       "      <td>Michael Keaton, Stanley Tucci, Amy Ryan, Shuno...</td>\n",
       "      <td>NaN</td>\n",
       "      <td>September 3, 2021</td>\n",
       "      <td>2021</td>\n",
       "      <td>PG-13</td>\n",
       "      <td>119 min</td>\n",
       "      <td>Dramas</td>\n",
       "      <td>In the wake of the Sept. 11 attacks, a lawyer ...</td>\n",
       "      <td>2021-09-03</td>\n",
       "      <td>2021.0</td>\n",
       "      <td>119.0</td>\n",
       "      <td>min</td>\n",
       "    </tr>\n",
       "    <tr>\n",
       "      <th>129</th>\n",
       "      <td>s130</td>\n",
       "      <td>Movie</td>\n",
       "      <td>An Unfinished Life</td>\n",
       "      <td>Lasse Hallström</td>\n",
       "      <td>Robert Redford, Jennifer Lopez, Morgan Freeman...</td>\n",
       "      <td>Germany, United States</td>\n",
       "      <td>September 1, 2021</td>\n",
       "      <td>2005</td>\n",
       "      <td>PG-13</td>\n",
       "      <td>108 min</td>\n",
       "      <td>Dramas</td>\n",
       "      <td>A grieving widow and her daughter move in with...</td>\n",
       "      <td>2021-09-01</td>\n",
       "      <td>2021.0</td>\n",
       "      <td>108.0</td>\n",
       "      <td>min</td>\n",
       "    </tr>\n",
       "  </tbody>\n",
       "</table>\n",
       "</div>"
      ],
      "text/plain": [
       "    show_id category               title         director  \\\n",
       "112    s113    Movie               Worth   Sara Colangelo   \n",
       "129    s130    Movie  An Unfinished Life  Lasse Hallström   \n",
       "\n",
       "                                                  cast  \\\n",
       "112  Michael Keaton, Stanley Tucci, Amy Ryan, Shuno...   \n",
       "129  Robert Redford, Jennifer Lopez, Morgan Freeman...   \n",
       "\n",
       "                    country         date_added  release_year rating duration  \\\n",
       "112                     NaN  September 3, 2021          2021  PG-13  119 min   \n",
       "129  Germany, United States  September 1, 2021          2005  PG-13  108 min   \n",
       "\n",
       "    listed_in                                        description release_date  \\\n",
       "112    Dramas  In the wake of the Sept. 11 attacks, a lawyer ...   2021-09-03   \n",
       "129    Dramas  A grieving widow and her daughter move in with...   2021-09-01   \n",
       "\n",
       "       year  Minutes Unit  \n",
       "112  2021.0    119.0  min  \n",
       "129  2021.0    108.0  min  "
      ]
     },
     "execution_count": 476,
     "metadata": {},
     "output_type": "execute_result"
    }
   ],
   "source": [
    "df[(df['category'] == 'Movie') & (df['listed_in'] == 'Dramas')].head(2)\n"
   ]
  },
  {
   "cell_type": "code",
   "execution_count": 487,
   "id": "e8b2b145-3b7a-4469-b0cb-a60a5de1c491",
   "metadata": {},
   "outputs": [
    {
     "data": {
      "text/html": [
       "<div>\n",
       "<style scoped>\n",
       "    .dataframe tbody tr th:only-of-type {\n",
       "        vertical-align: middle;\n",
       "    }\n",
       "\n",
       "    .dataframe tbody tr th {\n",
       "        vertical-align: top;\n",
       "    }\n",
       "\n",
       "    .dataframe thead th {\n",
       "        text-align: right;\n",
       "    }\n",
       "</style>\n",
       "<table border=\"1\" class=\"dataframe\">\n",
       "  <thead>\n",
       "    <tr style=\"text-align: right;\">\n",
       "      <th></th>\n",
       "      <th>show_id</th>\n",
       "      <th>category</th>\n",
       "      <th>title</th>\n",
       "      <th>director</th>\n",
       "      <th>cast</th>\n",
       "      <th>country</th>\n",
       "      <th>date_added</th>\n",
       "      <th>release_year</th>\n",
       "      <th>rating</th>\n",
       "      <th>duration</th>\n",
       "      <th>listed_in</th>\n",
       "      <th>description</th>\n",
       "      <th>release_date</th>\n",
       "      <th>year</th>\n",
       "      <th>Minutes</th>\n",
       "      <th>Unit</th>\n",
       "    </tr>\n",
       "  </thead>\n",
       "  <tbody>\n",
       "    <tr>\n",
       "      <th>34</th>\n",
       "      <td>s35</td>\n",
       "      <td>TV Show</td>\n",
       "      <td>Tayo and Little Wizards</td>\n",
       "      <td>NaN</td>\n",
       "      <td>Dami Lee, Jason Lee, Bommie Catherine Han, Jen...</td>\n",
       "      <td>NaN</td>\n",
       "      <td>September 17, 2021</td>\n",
       "      <td>2020</td>\n",
       "      <td>TV-Y7</td>\n",
       "      <td>1 Season</td>\n",
       "      <td>Kids' TV</td>\n",
       "      <td>Tayo speeds into an adventure when his friends...</td>\n",
       "      <td>2021-09-17</td>\n",
       "      <td>2021.0</td>\n",
       "      <td>1.0</td>\n",
       "      <td>Season</td>\n",
       "    </tr>\n",
       "    <tr>\n",
       "      <th>39</th>\n",
       "      <td>s40</td>\n",
       "      <td>TV Show</td>\n",
       "      <td>Chhota Bheem</td>\n",
       "      <td>NaN</td>\n",
       "      <td>Vatsal Dubey, Julie Tejwani, Rupa Bhimani, Jig...</td>\n",
       "      <td>India</td>\n",
       "      <td>September 16, 2021</td>\n",
       "      <td>2021</td>\n",
       "      <td>TV-Y7</td>\n",
       "      <td>3 Seasons</td>\n",
       "      <td>Kids' TV</td>\n",
       "      <td>A brave, energetic little boy with superhuman ...</td>\n",
       "      <td>2021-09-16</td>\n",
       "      <td>2021.0</td>\n",
       "      <td>3.0</td>\n",
       "      <td>Seasons</td>\n",
       "    </tr>\n",
       "  </tbody>\n",
       "</table>\n",
       "</div>"
      ],
      "text/plain": [
       "   show_id category                    title director  \\\n",
       "34     s35  TV Show  Tayo and Little Wizards      NaN   \n",
       "39     s40  TV Show             Chhota Bheem      NaN   \n",
       "\n",
       "                                                 cast country  \\\n",
       "34  Dami Lee, Jason Lee, Bommie Catherine Han, Jen...     NaN   \n",
       "39  Vatsal Dubey, Julie Tejwani, Rupa Bhimani, Jig...   India   \n",
       "\n",
       "            date_added  release_year rating   duration listed_in  \\\n",
       "34  September 17, 2021          2020  TV-Y7   1 Season  Kids' TV   \n",
       "39  September 16, 2021          2021  TV-Y7  3 Seasons  Kids' TV   \n",
       "\n",
       "                                          description release_date    year  \\\n",
       "34  Tayo speeds into an adventure when his friends...   2021-09-17  2021.0   \n",
       "39  A brave, energetic little boy with superhuman ...   2021-09-16  2021.0   \n",
       "\n",
       "    Minutes     Unit  \n",
       "34      1.0   Season  \n",
       "39      3.0  Seasons  "
      ]
     },
     "execution_count": 487,
     "metadata": {},
     "output_type": "execute_result"
    }
   ],
   "source": [
    "df[(df['category'] == 'TV Show') & (df['listed_in'] == \"Kids' TV\")].head(2)"
   ]
  },
  {
   "cell_type": "code",
   "execution_count": 499,
   "id": "093939e9-68c0-4302-91aa-3b527a1c9fe0",
   "metadata": {},
   "outputs": [],
   "source": [
    "df_filtered = pd.concat([ df[(df['category'] == 'Movie') & (df['listed_in'] == 'Dramas')],\n",
    "df[(df['category'] == 'TV Show') & (df['listed_in'] == \"Kids' TV\")]])"
   ]
  },
  {
   "cell_type": "code",
   "execution_count": 501,
   "id": "6daf91a8-6eb9-47bf-9ae9-b7c4ea434b04",
   "metadata": {},
   "outputs": [
    {
     "data": {
      "text/html": [
       "<div>\n",
       "<style scoped>\n",
       "    .dataframe tbody tr th:only-of-type {\n",
       "        vertical-align: middle;\n",
       "    }\n",
       "\n",
       "    .dataframe tbody tr th {\n",
       "        vertical-align: top;\n",
       "    }\n",
       "\n",
       "    .dataframe thead th {\n",
       "        text-align: right;\n",
       "    }\n",
       "</style>\n",
       "<table border=\"1\" class=\"dataframe\">\n",
       "  <thead>\n",
       "    <tr style=\"text-align: right;\">\n",
       "      <th></th>\n",
       "      <th>show_id</th>\n",
       "      <th>category</th>\n",
       "      <th>title</th>\n",
       "      <th>director</th>\n",
       "      <th>cast</th>\n",
       "      <th>country</th>\n",
       "      <th>date_added</th>\n",
       "      <th>release_year</th>\n",
       "      <th>rating</th>\n",
       "      <th>duration</th>\n",
       "      <th>listed_in</th>\n",
       "      <th>description</th>\n",
       "      <th>release_date</th>\n",
       "      <th>year</th>\n",
       "      <th>Minutes</th>\n",
       "      <th>Unit</th>\n",
       "    </tr>\n",
       "  </thead>\n",
       "  <tbody>\n",
       "    <tr>\n",
       "      <th>112</th>\n",
       "      <td>s113</td>\n",
       "      <td>Movie</td>\n",
       "      <td>Worth</td>\n",
       "      <td>Sara Colangelo</td>\n",
       "      <td>Michael Keaton, Stanley Tucci, Amy Ryan, Shuno...</td>\n",
       "      <td>NaN</td>\n",
       "      <td>September 3, 2021</td>\n",
       "      <td>2021</td>\n",
       "      <td>PG-13</td>\n",
       "      <td>119 min</td>\n",
       "      <td>Dramas</td>\n",
       "      <td>In the wake of the Sept. 11 attacks, a lawyer ...</td>\n",
       "      <td>2021-09-03</td>\n",
       "      <td>2021.0</td>\n",
       "      <td>119.0</td>\n",
       "      <td>min</td>\n",
       "    </tr>\n",
       "    <tr>\n",
       "      <th>129</th>\n",
       "      <td>s130</td>\n",
       "      <td>Movie</td>\n",
       "      <td>An Unfinished Life</td>\n",
       "      <td>Lasse Hallström</td>\n",
       "      <td>Robert Redford, Jennifer Lopez, Morgan Freeman...</td>\n",
       "      <td>Germany, United States</td>\n",
       "      <td>September 1, 2021</td>\n",
       "      <td>2005</td>\n",
       "      <td>PG-13</td>\n",
       "      <td>108 min</td>\n",
       "      <td>Dramas</td>\n",
       "      <td>A grieving widow and her daughter move in with...</td>\n",
       "      <td>2021-09-01</td>\n",
       "      <td>2021.0</td>\n",
       "      <td>108.0</td>\n",
       "      <td>min</td>\n",
       "    </tr>\n",
       "    <tr>\n",
       "      <th>142</th>\n",
       "      <td>s143</td>\n",
       "      <td>Movie</td>\n",
       "      <td>Freedom Writers</td>\n",
       "      <td>Richard LaGravenese</td>\n",
       "      <td>Hilary Swank, Patrick Dempsey, Scott Glenn, Im...</td>\n",
       "      <td>Germany, United States</td>\n",
       "      <td>September 1, 2021</td>\n",
       "      <td>2007</td>\n",
       "      <td>PG-13</td>\n",
       "      <td>124 min</td>\n",
       "      <td>Dramas</td>\n",
       "      <td>While her at-risk students are reading classic...</td>\n",
       "      <td>2021-09-01</td>\n",
       "      <td>2021.0</td>\n",
       "      <td>124.0</td>\n",
       "      <td>min</td>\n",
       "    </tr>\n",
       "    <tr>\n",
       "      <th>162</th>\n",
       "      <td>s163</td>\n",
       "      <td>Movie</td>\n",
       "      <td>Marshall</td>\n",
       "      <td>Reginald Hudlin</td>\n",
       "      <td>Chadwick Boseman, Josh Gad, Kate Hudson, Sterl...</td>\n",
       "      <td>United States, China, Hong Kong</td>\n",
       "      <td>September 1, 2021</td>\n",
       "      <td>2017</td>\n",
       "      <td>PG-13</td>\n",
       "      <td>118 min</td>\n",
       "      <td>Dramas</td>\n",
       "      <td>This biopic of Thurgood Marshall, the first Bl...</td>\n",
       "      <td>2021-09-01</td>\n",
       "      <td>2021.0</td>\n",
       "      <td>118.0</td>\n",
       "      <td>min</td>\n",
       "    </tr>\n",
       "    <tr>\n",
       "      <th>329</th>\n",
       "      <td>s330</td>\n",
       "      <td>Movie</td>\n",
       "      <td>Catch Me If You Can</td>\n",
       "      <td>Steven Spielberg</td>\n",
       "      <td>Leonardo DiCaprio, Tom Hanks, Christopher Walk...</td>\n",
       "      <td>United States, Canada</td>\n",
       "      <td>August 1, 2021</td>\n",
       "      <td>2002</td>\n",
       "      <td>PG-13</td>\n",
       "      <td>142 min</td>\n",
       "      <td>Dramas</td>\n",
       "      <td>An FBI agent makes it his mission to put cunni...</td>\n",
       "      <td>2021-08-01</td>\n",
       "      <td>2021.0</td>\n",
       "      <td>142.0</td>\n",
       "      <td>min</td>\n",
       "    </tr>\n",
       "    <tr>\n",
       "      <th>...</th>\n",
       "      <td>...</td>\n",
       "      <td>...</td>\n",
       "      <td>...</td>\n",
       "      <td>...</td>\n",
       "      <td>...</td>\n",
       "      <td>...</td>\n",
       "      <td>...</td>\n",
       "      <td>...</td>\n",
       "      <td>...</td>\n",
       "      <td>...</td>\n",
       "      <td>...</td>\n",
       "      <td>...</td>\n",
       "      <td>...</td>\n",
       "      <td>...</td>\n",
       "      <td>...</td>\n",
       "      <td>...</td>\n",
       "    </tr>\n",
       "    <tr>\n",
       "      <th>8669</th>\n",
       "      <td>s8670</td>\n",
       "      <td>TV Show</td>\n",
       "      <td>V.R. Troopers</td>\n",
       "      <td>NaN</td>\n",
       "      <td>Michael Sorich, Gardner Baldwin, Mike Reynolds...</td>\n",
       "      <td>United States</td>\n",
       "      <td>January 1, 2016</td>\n",
       "      <td>1995</td>\n",
       "      <td>TV-G</td>\n",
       "      <td>2 Seasons</td>\n",
       "      <td>Kids' TV</td>\n",
       "      <td>Three friends who study martial arts find them...</td>\n",
       "      <td>2016-01-01</td>\n",
       "      <td>2016.0</td>\n",
       "      <td>2.0</td>\n",
       "      <td>Seasons</td>\n",
       "    </tr>\n",
       "    <tr>\n",
       "      <th>8679</th>\n",
       "      <td>s8680</td>\n",
       "      <td>TV Show</td>\n",
       "      <td>ViR: The Robot Boy</td>\n",
       "      <td>NaN</td>\n",
       "      <td>Vidit Kumar, Roopa Bhimani, Anubhav Saha, Bria...</td>\n",
       "      <td>NaN</td>\n",
       "      <td>March 31, 2018</td>\n",
       "      <td>2013</td>\n",
       "      <td>TV-Y7</td>\n",
       "      <td>2 Seasons</td>\n",
       "      <td>Kids' TV</td>\n",
       "      <td>Humanoid robot boy ViR lives with his inventor...</td>\n",
       "      <td>2018-03-31</td>\n",
       "      <td>2018.0</td>\n",
       "      <td>2.0</td>\n",
       "      <td>Seasons</td>\n",
       "    </tr>\n",
       "    <tr>\n",
       "      <th>8783</th>\n",
       "      <td>s8784</td>\n",
       "      <td>TV Show</td>\n",
       "      <td>Yoko</td>\n",
       "      <td>NaN</td>\n",
       "      <td>Eileen Stevens, Alyson Leigh Rosenfeld, Sarah ...</td>\n",
       "      <td>NaN</td>\n",
       "      <td>June 23, 2018</td>\n",
       "      <td>2016</td>\n",
       "      <td>TV-Y</td>\n",
       "      <td>1 Season</td>\n",
       "      <td>Kids' TV</td>\n",
       "      <td>Friends Mai, Oto and Vik's games at the park b...</td>\n",
       "      <td>2018-06-23</td>\n",
       "      <td>2018.0</td>\n",
       "      <td>1.0</td>\n",
       "      <td>Season</td>\n",
       "    </tr>\n",
       "    <tr>\n",
       "      <th>8785</th>\n",
       "      <td>s8786</td>\n",
       "      <td>TV Show</td>\n",
       "      <td>YOM</td>\n",
       "      <td>NaN</td>\n",
       "      <td>Sairaj, Devyani Dagaonkar, Ketan Singh, Mayur ...</td>\n",
       "      <td>NaN</td>\n",
       "      <td>June 7, 2018</td>\n",
       "      <td>2016</td>\n",
       "      <td>TV-Y7</td>\n",
       "      <td>1 Season</td>\n",
       "      <td>Kids' TV</td>\n",
       "      <td>With the mind of a human being, and the body o...</td>\n",
       "      <td>2018-06-07</td>\n",
       "      <td>2018.0</td>\n",
       "      <td>1.0</td>\n",
       "      <td>Season</td>\n",
       "    </tr>\n",
       "    <tr>\n",
       "      <th>8797</th>\n",
       "      <td>s8798</td>\n",
       "      <td>TV Show</td>\n",
       "      <td>Zak Storm</td>\n",
       "      <td>NaN</td>\n",
       "      <td>Michael Johnston, Jessica Gee-George, Christin...</td>\n",
       "      <td>United States, France, South Korea, Indonesia</td>\n",
       "      <td>September 13, 2018</td>\n",
       "      <td>2016</td>\n",
       "      <td>TV-Y7</td>\n",
       "      <td>3 Seasons</td>\n",
       "      <td>Kids' TV</td>\n",
       "      <td>Teen surfer Zak Storm is mysteriously transpor...</td>\n",
       "      <td>2018-09-13</td>\n",
       "      <td>2018.0</td>\n",
       "      <td>3.0</td>\n",
       "      <td>Seasons</td>\n",
       "    </tr>\n",
       "  </tbody>\n",
       "</table>\n",
       "<p>358 rows × 16 columns</p>\n",
       "</div>"
      ],
      "text/plain": [
       "     show_id category                title             director  \\\n",
       "112     s113    Movie                Worth       Sara Colangelo   \n",
       "129     s130    Movie   An Unfinished Life      Lasse Hallström   \n",
       "142     s143    Movie      Freedom Writers  Richard LaGravenese   \n",
       "162     s163    Movie             Marshall      Reginald Hudlin   \n",
       "329     s330    Movie  Catch Me If You Can     Steven Spielberg   \n",
       "...      ...      ...                  ...                  ...   \n",
       "8669   s8670  TV Show        V.R. Troopers                  NaN   \n",
       "8679   s8680  TV Show   ViR: The Robot Boy                  NaN   \n",
       "8783   s8784  TV Show                 Yoko                  NaN   \n",
       "8785   s8786  TV Show                  YOM                  NaN   \n",
       "8797   s8798  TV Show            Zak Storm                  NaN   \n",
       "\n",
       "                                                   cast  \\\n",
       "112   Michael Keaton, Stanley Tucci, Amy Ryan, Shuno...   \n",
       "129   Robert Redford, Jennifer Lopez, Morgan Freeman...   \n",
       "142   Hilary Swank, Patrick Dempsey, Scott Glenn, Im...   \n",
       "162   Chadwick Boseman, Josh Gad, Kate Hudson, Sterl...   \n",
       "329   Leonardo DiCaprio, Tom Hanks, Christopher Walk...   \n",
       "...                                                 ...   \n",
       "8669  Michael Sorich, Gardner Baldwin, Mike Reynolds...   \n",
       "8679  Vidit Kumar, Roopa Bhimani, Anubhav Saha, Bria...   \n",
       "8783  Eileen Stevens, Alyson Leigh Rosenfeld, Sarah ...   \n",
       "8785  Sairaj, Devyani Dagaonkar, Ketan Singh, Mayur ...   \n",
       "8797  Michael Johnston, Jessica Gee-George, Christin...   \n",
       "\n",
       "                                            country          date_added  \\\n",
       "112                                             NaN   September 3, 2021   \n",
       "129                          Germany, United States   September 1, 2021   \n",
       "142                          Germany, United States   September 1, 2021   \n",
       "162                 United States, China, Hong Kong   September 1, 2021   \n",
       "329                           United States, Canada      August 1, 2021   \n",
       "...                                             ...                 ...   \n",
       "8669                                  United States     January 1, 2016   \n",
       "8679                                            NaN      March 31, 2018   \n",
       "8783                                            NaN       June 23, 2018   \n",
       "8785                                            NaN        June 7, 2018   \n",
       "8797  United States, France, South Korea, Indonesia  September 13, 2018   \n",
       "\n",
       "      release_year rating   duration listed_in  \\\n",
       "112           2021  PG-13    119 min    Dramas   \n",
       "129           2005  PG-13    108 min    Dramas   \n",
       "142           2007  PG-13    124 min    Dramas   \n",
       "162           2017  PG-13    118 min    Dramas   \n",
       "329           2002  PG-13    142 min    Dramas   \n",
       "...            ...    ...        ...       ...   \n",
       "8669          1995   TV-G  2 Seasons  Kids' TV   \n",
       "8679          2013  TV-Y7  2 Seasons  Kids' TV   \n",
       "8783          2016   TV-Y   1 Season  Kids' TV   \n",
       "8785          2016  TV-Y7   1 Season  Kids' TV   \n",
       "8797          2016  TV-Y7  3 Seasons  Kids' TV   \n",
       "\n",
       "                                            description release_date    year  \\\n",
       "112   In the wake of the Sept. 11 attacks, a lawyer ...   2021-09-03  2021.0   \n",
       "129   A grieving widow and her daughter move in with...   2021-09-01  2021.0   \n",
       "142   While her at-risk students are reading classic...   2021-09-01  2021.0   \n",
       "162   This biopic of Thurgood Marshall, the first Bl...   2021-09-01  2021.0   \n",
       "329   An FBI agent makes it his mission to put cunni...   2021-08-01  2021.0   \n",
       "...                                                 ...          ...     ...   \n",
       "8669  Three friends who study martial arts find them...   2016-01-01  2016.0   \n",
       "8679  Humanoid robot boy ViR lives with his inventor...   2018-03-31  2018.0   \n",
       "8783  Friends Mai, Oto and Vik's games at the park b...   2018-06-23  2018.0   \n",
       "8785  With the mind of a human being, and the body o...   2018-06-07  2018.0   \n",
       "8797  Teen surfer Zak Storm is mysteriously transpor...   2018-09-13  2018.0   \n",
       "\n",
       "      Minutes     Unit  \n",
       "112     119.0      min  \n",
       "129     108.0      min  \n",
       "142     124.0      min  \n",
       "162     118.0      min  \n",
       "329     142.0      min  \n",
       "...       ...      ...  \n",
       "8669      2.0  Seasons  \n",
       "8679      2.0  Seasons  \n",
       "8783      1.0   Season  \n",
       "8785      1.0   Season  \n",
       "8797      3.0  Seasons  \n",
       "\n",
       "[358 rows x 16 columns]"
      ]
     },
     "execution_count": 501,
     "metadata": {},
     "output_type": "execute_result"
    }
   ],
   "source": [
    "df_filtered"
   ]
  },
  {
   "cell_type": "code",
   "execution_count": null,
   "id": "83053bf1-36d9-40f2-adb0-705efdb88dd8",
   "metadata": {},
   "outputs": [],
   "source": []
  }
 ],
 "metadata": {
  "kernelspec": {
   "display_name": "Python 3 (ipykernel)",
   "language": "python",
   "name": "python3"
  },
  "language_info": {
   "codemirror_mode": {
    "name": "ipython",
    "version": 3
   },
   "file_extension": ".py",
   "mimetype": "text/x-python",
   "name": "python",
   "nbconvert_exporter": "python",
   "pygments_lexer": "ipython3",
   "version": "3.12.7"
  }
 },
 "nbformat": 4,
 "nbformat_minor": 5
}
